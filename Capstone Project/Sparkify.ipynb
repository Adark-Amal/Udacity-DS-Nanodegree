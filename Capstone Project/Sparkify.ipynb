{
 "cells": [
  {
   "cell_type": "markdown",
   "metadata": {},
   "source": [
    "> **Project Title:** Churn Prediction<br>\n",
    "> **Project Owner:** David Adarkwah<br>\n",
    "> **Email:** davidwyse48@gmail.com<br>\n",
    "> **Github Profile:** [Github](github.com/Adark-Amal)<br>\n",
    "> **LinkedIn Profile:** [LinkedIn](https://www.linkedin.com/in/d-adark/)"
   ]
  },
  {
   "cell_type": "markdown",
   "metadata": {},
   "source": [
    " "
   ]
  },
  {
   "cell_type": "markdown",
   "metadata": {},
   "source": [
    "## Table of Contents <a id='mu'></a>\n",
    "\n",
    "* [Business Problem Understanding](#bpu)\n",
    "    * [Problem Statement](#ps)\n",
    "    * [Project Goal](#pg)\n",
    "    * [Data Description](#dd)\n",
    "    * [Methodology](#my)\n",
    "* [Data Preparation](#dp)\n",
    "* [Exploratory Data Analysis](#eda) \n",
    "* [Feature Engineering](#fe) \n",
    "* [Modeling](#dm)\n",
    "* [Conclusion and Recommendation](#cr)\n",
    "* [References](#r)"
   ]
  },
  {
   "cell_type": "markdown",
   "metadata": {},
   "source": [
    " "
   ]
  },
  {
   "cell_type": "markdown",
   "metadata": {},
   "source": [
    "## 1. Business Problem Understanding<a id='bpu'></a>\n",
    "\n",
    "[Move Up](#mu)"
   ]
  },
  {
   "cell_type": "markdown",
   "metadata": {},
   "source": [
    "<p style=\"text-align:justify;\">The initial stage in solving a data science problem is comprehending the problem at hand. This step is crucial as it enables us to identify the decisions we need to make, the data required to inform those decisions, and the analysis needed to arrive at them. Essentially, constructing a mental model of the problem helps us efficiently organize the relevant information necessary to solve the problem.</p>"
   ]
  },
  {
   "cell_type": "markdown",
   "metadata": {},
   "source": [
    " "
   ]
  },
  {
   "cell_type": "markdown",
   "metadata": {},
   "source": [
    "### 1.1 Problem Statement <a id='ps'></a>\n",
    "\n",
    "Our digital music service, similar to Spotify or Pandora, faces the challenge of user churn. Users either enjoy our free tier with advertisements between songs or subscribe to our premium plan, which offers an ad-free experience for a monthly fee. Users have the flexibility to upgrade, downgrade, or cancel their service at any time. Recognizing users who are at risk of churning – whether by downgrading from premium or canceling their service entirely – is crucial for our business. Identifying these users in advance allows us to offer incentives and discounts, potentially saving millions in revenue."
   ]
  },
  {
   "cell_type": "markdown",
   "metadata": {},
   "source": [
    " "
   ]
  },
  {
   "cell_type": "markdown",
   "metadata": {},
   "source": [
    "### 1.2 Project Goal <a id='pg'></a>\n",
    "\n",
    "The primary objectives of this project are:\n",
    "\n",
    "1. **Identify Churn Risk:** Develop a predictive model that can identify users at risk of churning from our digital music service based on their interactions.\n",
    "\n",
    "2. **Retain Users:** Proactively target and retain users who are likely to downgrade from premium or cancel their service, potentially saving revenue and maintaining customer satisfaction.\n",
    "\n",
    "3. **Select Optimal Model:** Evaluate and select the best-performing model based on the F1 score, considering the class imbalance, to guide churn prediction efforts effectively.\n",
    "\n",
    "4. **Preliminary analysis:** Perform some exploratory data analysis to observe the behavior for users who stayed vs users who churned."
   ]
  },
  {
   "cell_type": "markdown",
   "metadata": {},
   "source": [
    "  "
   ]
  },
  {
   "cell_type": "markdown",
   "metadata": {},
   "source": [
    "### 1.3 Data Description <a id='dd'></a>\n",
    "\n",
    "The dataset contains user activity logs from a digital music service similar to Spotify or Pandora. It comprises various user interactions and events while using the service. Key events include:\n",
    "\n",
    "- **Cancel**: Users cancel their service.\n",
    "- **Submit Downgrade**: Users request a downgrade from a premium plan.\n",
    "- **Thumbs Down**: Users give a thumbs-down rating to a song.\n",
    "- **Home**: Users visit the homepage.\n",
    "- **Downgrade**: Users perform a downgrade.\n",
    "- **Roll Advert**: Users encounter advertisements.\n",
    "- **Logout**: Users log out of their accounts.\n",
    "- **Save Settings**: Users save their settings.\n",
    "- **Cancellation Confirmation**: Confirmation of user service cancellation.\n",
    "- **About**: Users visit the \"About\" section.\n",
    "- **Submit Registration**: Users submit registration.\n",
    "- **Settings**: Users access their account settings.\n",
    "- **Login**: Users log into their accounts.\n",
    "- **Register**: Users register for the service.\n",
    "- **Add to Playlist**: Users add songs to their playlists.\n",
    "- **Add Friend**: Users add friends to their network.\n",
    "- **NextSong**: Users play the next song.\n",
    "- **Thumbs Up**: Users give a thumbs-up rating to a song.\n",
    "- **Help**: Users seek help or support.\n",
    "- **Upgrade**: Users upgrade their service to premium.\n",
    "\n",
    "The primary objective is to predict user churn based on events such as \"Submit Downgrade\" or \"Cancellation Confirmation.\" This dataset plays a crucial role in understanding user behavior and building predictive models to effectively retain customers.\n"
   ]
  },
  {
   "cell_type": "markdown",
   "metadata": {},
   "source": [
    " "
   ]
  },
  {
   "cell_type": "markdown",
   "metadata": {},
   "source": [
    "### 1.4 Methodology <a id='my'></a>\n",
    "\n",
    "<p style=\"text-align:justify;\">The methodology that will be used for our project will largely depend on the goals we set out to achieve. The methodlogy framework below gives us a comprehensive guide on the methodology apparoach that will help us achieve our goals.</p>\n",
    "<br>\n",
    "<p style=\"text-align:center;font-weight:bold;font-size:20px\"> Methodology Framework</p>\n",
    "<br>\n",
    "<div style='justify-content: center;text-align:center;'>\n",
    "<img src='https://artofdatablog.files.wordpress.com/2017/10/methodology-map.jpg' style=\"float:center;width:700px;\">\n",
    "</div>\n",
    "Once we have the data, we would need to engineer features based on the data that we obtain, and build a model suitable for binary classification (Logistic Regression, Random Forest, Gradient Boosting), picking the most appropriate model based on the tradeoff between the complexity, the understanding, and the error margin."
   ]
  },
  {
   "cell_type": "markdown",
   "metadata": {},
   "source": [
    " "
   ]
  },
  {
   "cell_type": "markdown",
   "metadata": {},
   "source": [
    "## 2. Data Preparation <a id='dp'></a>\n",
    "\n",
    "[Move Up](#mu)\n",
    "\n",
    "An understanding of the data coupled with problem understanding will help us in cleaning and preparing our data for analysis. It is usually rare to acquire a ready-to-use data for any analysis without some level of preparation. To prepare our data, we normally assess the quality of the data, cleanse, format, blend and sample the data since we may encounter various issues with columns in our data. These issues may include:\n",
    "\n",
    "* **`Missing values:`** meaning column values are incomplete\n",
    "* **`Incorrect data:`** meaning you see values not expected for the column name\n",
    "* **`Inconsistent values:`** meaning some values may fall outside the expected range\n",
    "* **`Duplicate values:`** meaning whether or not there are duplicate values\n",
    "* **`Inconsistent data type:`** meaning values entered in the columns may not be consistent with the column names"
   ]
  },
  {
   "cell_type": "code",
   "execution_count": 1,
   "metadata": {},
   "outputs": [],
   "source": [
    "# Import libraries\n",
    "\n",
    "import pyspark\n",
    "from pyspark import SparkConf\n",
    "from pyspark.sql import SparkSession\n",
    "from pyspark.sql.functions import udf\n",
    "from pyspark.sql.types import StringType\n",
    "from pyspark.sql.types import IntegerType\n",
    "from pyspark.sql.functions import isnan, count, when, col, desc, udf, col, sort_array, asc, avg\n",
    "from pyspark.sql.functions import sum as Fsum\n",
    "from pyspark.sql.window import Window\n",
    "from pyspark.sql import Row\n",
    "from pyspark.sql import functions as F\n",
    "from pyspark.sql.functions import *\n",
    "\n",
    "from pyspark.ml import Pipeline\n",
    "from pyspark.ml.classification import LogisticRegression, RandomForestClassifier, GBTClassifier, LinearSVC, NaiveBayes\n",
    "from pyspark.ml.evaluation import MulticlassClassificationEvaluator\n",
    "from pyspark.ml.feature import CountVectorizer, IDF, PCA, RegexTokenizer, VectorAssembler, Normalizer, StandardScaler\n",
    "from pyspark.ml.regression import LinearRegression\n",
    "from pyspark.ml.tuning import CrossValidator, ParamGridBuilder\n",
    "\n",
    "import datetime\n",
    "import time\n",
    "\n",
    "import pandas as pd\n",
    "import numpy as np\n",
    "import re\n",
    "%matplotlib inline\n",
    "import matplotlib.pyplot as plt\n",
    "import seaborn as sns\n",
    "sns.set()\n"
   ]
  },
  {
   "cell_type": "code",
   "execution_count": 2,
   "metadata": {},
   "outputs": [],
   "source": [
    "# Create a Spark session\n",
    "\n",
    "spark = SparkSession \\\n",
    "    .builder \\\n",
    "    .appName(\"Adark Sparkify\") \\\n",
    "    .getOrCreate()"
   ]
  },
  {
   "cell_type": "code",
   "execution_count": 3,
   "metadata": {},
   "outputs": [
    {
     "data": {
      "text/plain": [
       "[('spark.app.id', 'local-1707253833040'),\n",
       " ('spark.app.name', 'Adark Sparkify'),\n",
       " ('spark.rdd.compress', 'True'),\n",
       " ('spark.serializer.objectStreamReset', '100'),\n",
       " ('spark.master', 'local[*]'),\n",
       " ('spark.executor.id', 'driver'),\n",
       " ('spark.submit.deployMode', 'client'),\n",
       " ('spark.driver.port', '42605'),\n",
       " ('spark.ui.showConsoleProgress', 'true'),\n",
       " ('spark.driver.host',\n",
       "  '37968439766b5dbdcc745cf8d4b84fcf77bad631-6cbd446695-vjbv8')]"
      ]
     },
     "execution_count": 3,
     "metadata": {},
     "output_type": "execute_result"
    }
   ],
   "source": [
    "spark.sparkContext.getConf().getAll()"
   ]
  },
  {
   "cell_type": "markdown",
   "metadata": {},
   "source": [
    " "
   ]
  },
  {
   "cell_type": "markdown",
   "metadata": {},
   "source": [
    "### 2.1 Data Cleaning and Preprocessing <a id='dqa'></a>\n",
    "In this workspace, the mini-dataset file is `mini_sparkify_event_data.json`. Load and clean the dataset, checking for invalid or missing data - for example, records without userids or sessionids. "
   ]
  },
  {
   "cell_type": "code",
   "execution_count": 4,
   "metadata": {},
   "outputs": [],
   "source": [
    "# load in the dataset\n",
    "\n",
    "df = spark.read.json(\"mini_sparkify_event_data.json\")"
   ]
  },
  {
   "cell_type": "code",
   "execution_count": 5,
   "metadata": {},
   "outputs": [
    {
     "name": "stdout",
     "output_type": "stream",
     "text": [
      "root\n",
      " |-- artist: string (nullable = true)\n",
      " |-- auth: string (nullable = true)\n",
      " |-- firstName: string (nullable = true)\n",
      " |-- gender: string (nullable = true)\n",
      " |-- itemInSession: long (nullable = true)\n",
      " |-- lastName: string (nullable = true)\n",
      " |-- length: double (nullable = true)\n",
      " |-- level: string (nullable = true)\n",
      " |-- location: string (nullable = true)\n",
      " |-- method: string (nullable = true)\n",
      " |-- page: string (nullable = true)\n",
      " |-- registration: long (nullable = true)\n",
      " |-- sessionId: long (nullable = true)\n",
      " |-- song: string (nullable = true)\n",
      " |-- status: long (nullable = true)\n",
      " |-- ts: long (nullable = true)\n",
      " |-- userAgent: string (nullable = true)\n",
      " |-- userId: string (nullable = true)\n",
      "\n"
     ]
    }
   ],
   "source": [
    "# print the schema\n",
    "\n",
    "df.printSchema()"
   ]
  },
  {
   "cell_type": "markdown",
   "metadata": {},
   "source": [
    "> Data type is predominantly string with a few double and long numeric data types"
   ]
  },
  {
   "cell_type": "code",
   "execution_count": 6,
   "metadata": {},
   "outputs": [
    {
     "name": "stdout",
     "output_type": "stream",
     "text": [
      "+----------------+---------+---------+------+-------------+--------+---------+-----+--------------------+------+--------+-------------+---------+---------+------+-------------+--------------------+------+\n",
      "|          artist|     auth|firstName|gender|itemInSession|lastName|   length|level|            location|method|    page| registration|sessionId|     song|status|           ts|           userAgent|userId|\n",
      "+----------------+---------+---------+------+-------------+--------+---------+-----+--------------------+------+--------+-------------+---------+---------+------+-------------+--------------------+------+\n",
      "|  Martha Tilston|Logged In|    Colin|     M|           50| Freeman|277.89016| paid|     Bakersfield, CA|   PUT|NextSong|1538173362000|       29|Rockpools|   200|1538352117000|Mozilla/5.0 (Wind...|    30|\n",
      "|Five Iron Frenzy|Logged In|    Micah|     M|           79|    Long|236.09424| free|Boston-Cambridge-...|   PUT|NextSong|1538331630000|        8|   Canada|   200|1538352180000|\"Mozilla/5.0 (Win...|     9|\n",
      "+----------------+---------+---------+------+-------------+--------+---------+-----+--------------------+------+--------+-------------+---------+---------+------+-------------+--------------------+------+\n",
      "only showing top 2 rows\n",
      "\n"
     ]
    }
   ],
   "source": [
    "# Show first 2 rows in the data\n",
    "\n",
    "df.show(2)"
   ]
  },
  {
   "cell_type": "code",
   "execution_count": 7,
   "metadata": {},
   "outputs": [
    {
     "data": {
      "text/plain": [
       "286500"
      ]
     },
     "execution_count": 7,
     "metadata": {},
     "output_type": "execute_result"
    }
   ],
   "source": [
    "# get the count of the dataset before we do any cleaning - this is 286500\n",
    "\n",
    "df.count()"
   ]
  },
  {
   "cell_type": "markdown",
   "metadata": {},
   "source": [
    "> The data in its raw form contains 286500 records"
   ]
  },
  {
   "cell_type": "markdown",
   "metadata": {},
   "source": [
    "Now we will inspect the data for any missing data and duplicate data."
   ]
  },
  {
   "cell_type": "code",
   "execution_count": 8,
   "metadata": {},
   "outputs": [],
   "source": [
    "# Dropping row with missing user_id and session_id\n",
    "\n",
    "df = df.dropna(how = 'any', subset = [\"userId\", \"sessionId\"])"
   ]
  },
  {
   "cell_type": "code",
   "execution_count": 9,
   "metadata": {},
   "outputs": [
    {
     "data": {
      "text/plain": [
       "286500"
      ]
     },
     "execution_count": 9,
     "metadata": {},
     "output_type": "execute_result"
    }
   ],
   "source": [
    "df.count()"
   ]
  },
  {
   "cell_type": "markdown",
   "metadata": {},
   "source": [
    "> From the output we can tell there were no missing values pertaining to session_id and user_id"
   ]
  },
  {
   "cell_type": "code",
   "execution_count": 10,
   "metadata": {},
   "outputs": [
    {
     "name": "stdout",
     "output_type": "stream",
     "text": [
      "+------+\n",
      "|userId|\n",
      "+------+\n",
      "|      |\n",
      "|    10|\n",
      "|   100|\n",
      "|100001|\n",
      "|100002|\n",
      "|100003|\n",
      "|100004|\n",
      "|100005|\n",
      "|100006|\n",
      "|100007|\n",
      "|100008|\n",
      "|100009|\n",
      "|100010|\n",
      "|100011|\n",
      "|100012|\n",
      "|100013|\n",
      "|100014|\n",
      "|100015|\n",
      "|100016|\n",
      "|100017|\n",
      "+------+\n",
      "only showing top 20 rows\n",
      "\n"
     ]
    }
   ],
   "source": [
    "# Check for duplicate values\n",
    "\n",
    "df.select(\"userId\").dropDuplicates().sort(\"userId\").show()"
   ]
  },
  {
   "cell_type": "markdown",
   "metadata": {},
   "source": [
    "> From the output above, we can see that there are user_ids which are represented as empty strings. We would have to drop this as userid needs to be available for uniqueness of data."
   ]
  },
  {
   "cell_type": "markdown",
   "metadata": {},
   "source": [
    "Before dropping empty userids, lets inspect the sessionid too."
   ]
  },
  {
   "cell_type": "code",
   "execution_count": 11,
   "metadata": {},
   "outputs": [
    {
     "name": "stdout",
     "output_type": "stream",
     "text": [
      "+---------+\n",
      "|sessionId|\n",
      "+---------+\n",
      "|        1|\n",
      "|        2|\n",
      "|        3|\n",
      "|        4|\n",
      "|        5|\n",
      "|        6|\n",
      "|        7|\n",
      "|        8|\n",
      "|        9|\n",
      "|       10|\n",
      "|       11|\n",
      "|       12|\n",
      "|       13|\n",
      "|       15|\n",
      "|       16|\n",
      "|       17|\n",
      "|       18|\n",
      "|       19|\n",
      "|       20|\n",
      "|       21|\n",
      "+---------+\n",
      "only showing top 20 rows\n",
      "\n"
     ]
    }
   ],
   "source": [
    "df.select(\"sessionId\").dropDuplicates().sort(\"sessionId\").show()"
   ]
  },
  {
   "cell_type": "markdown",
   "metadata": {},
   "source": [
    "> We can see that there are no missing values in the sessionid column."
   ]
  },
  {
   "cell_type": "markdown",
   "metadata": {},
   "source": [
    "Now lets go ahead and drop all the empty string userids."
   ]
  },
  {
   "cell_type": "code",
   "execution_count": 12,
   "metadata": {},
   "outputs": [],
   "source": [
    "df = df.filter(df[\"userId\"] != \"\")"
   ]
  },
  {
   "cell_type": "code",
   "execution_count": 13,
   "metadata": {},
   "outputs": [
    {
     "data": {
      "text/plain": [
       "278154"
      ]
     },
     "execution_count": 13,
     "metadata": {},
     "output_type": "execute_result"
    }
   ],
   "source": [
    "df.count()"
   ]
  },
  {
   "cell_type": "markdown",
   "metadata": {},
   "source": [
    "> Now out of the 286500 observations, 8346 has empty string as userid and were dropped as a result."
   ]
  },
  {
   "cell_type": "code",
   "execution_count": 14,
   "metadata": {},
   "outputs": [
    {
     "data": {
      "text/html": [
       "<div>\n",
       "<style scoped>\n",
       "    .dataframe tbody tr th:only-of-type {\n",
       "        vertical-align: middle;\n",
       "    }\n",
       "\n",
       "    .dataframe tbody tr th {\n",
       "        vertical-align: top;\n",
       "    }\n",
       "\n",
       "    .dataframe thead th {\n",
       "        text-align: right;\n",
       "    }\n",
       "</style>\n",
       "<table border=\"1\" class=\"dataframe\">\n",
       "  <thead>\n",
       "    <tr style=\"text-align: right;\">\n",
       "      <th></th>\n",
       "      <th>artist</th>\n",
       "      <th>auth</th>\n",
       "      <th>firstName</th>\n",
       "      <th>gender</th>\n",
       "      <th>itemInSession</th>\n",
       "      <th>lastName</th>\n",
       "      <th>length</th>\n",
       "      <th>level</th>\n",
       "      <th>location</th>\n",
       "      <th>method</th>\n",
       "      <th>page</th>\n",
       "      <th>registration</th>\n",
       "      <th>sessionId</th>\n",
       "      <th>song</th>\n",
       "      <th>status</th>\n",
       "      <th>ts</th>\n",
       "      <th>userAgent</th>\n",
       "      <th>userId</th>\n",
       "    </tr>\n",
       "  </thead>\n",
       "  <tbody>\n",
       "    <tr>\n",
       "      <th>0</th>\n",
       "      <td>Martha Tilston</td>\n",
       "      <td>Logged In</td>\n",
       "      <td>Colin</td>\n",
       "      <td>M</td>\n",
       "      <td>50</td>\n",
       "      <td>Freeman</td>\n",
       "      <td>277.89016</td>\n",
       "      <td>paid</td>\n",
       "      <td>Bakersfield, CA</td>\n",
       "      <td>PUT</td>\n",
       "      <td>NextSong</td>\n",
       "      <td>1538173362000</td>\n",
       "      <td>29</td>\n",
       "      <td>Rockpools</td>\n",
       "      <td>200</td>\n",
       "      <td>1538352117000</td>\n",
       "      <td>Mozilla/5.0 (Windows NT 6.1; WOW64; rv:31.0) G...</td>\n",
       "      <td>30</td>\n",
       "    </tr>\n",
       "    <tr>\n",
       "      <th>1</th>\n",
       "      <td>Five Iron Frenzy</td>\n",
       "      <td>Logged In</td>\n",
       "      <td>Micah</td>\n",
       "      <td>M</td>\n",
       "      <td>79</td>\n",
       "      <td>Long</td>\n",
       "      <td>236.09424</td>\n",
       "      <td>free</td>\n",
       "      <td>Boston-Cambridge-Newton, MA-NH</td>\n",
       "      <td>PUT</td>\n",
       "      <td>NextSong</td>\n",
       "      <td>1538331630000</td>\n",
       "      <td>8</td>\n",
       "      <td>Canada</td>\n",
       "      <td>200</td>\n",
       "      <td>1538352180000</td>\n",
       "      <td>\"Mozilla/5.0 (Windows NT 6.1; WOW64) AppleWebK...</td>\n",
       "      <td>9</td>\n",
       "    </tr>\n",
       "    <tr>\n",
       "      <th>2</th>\n",
       "      <td>Adam Lambert</td>\n",
       "      <td>Logged In</td>\n",
       "      <td>Colin</td>\n",
       "      <td>M</td>\n",
       "      <td>51</td>\n",
       "      <td>Freeman</td>\n",
       "      <td>282.82730</td>\n",
       "      <td>paid</td>\n",
       "      <td>Bakersfield, CA</td>\n",
       "      <td>PUT</td>\n",
       "      <td>NextSong</td>\n",
       "      <td>1538173362000</td>\n",
       "      <td>29</td>\n",
       "      <td>Time For Miracles</td>\n",
       "      <td>200</td>\n",
       "      <td>1538352394000</td>\n",
       "      <td>Mozilla/5.0 (Windows NT 6.1; WOW64; rv:31.0) G...</td>\n",
       "      <td>30</td>\n",
       "    </tr>\n",
       "    <tr>\n",
       "      <th>3</th>\n",
       "      <td>Enigma</td>\n",
       "      <td>Logged In</td>\n",
       "      <td>Micah</td>\n",
       "      <td>M</td>\n",
       "      <td>80</td>\n",
       "      <td>Long</td>\n",
       "      <td>262.71302</td>\n",
       "      <td>free</td>\n",
       "      <td>Boston-Cambridge-Newton, MA-NH</td>\n",
       "      <td>PUT</td>\n",
       "      <td>NextSong</td>\n",
       "      <td>1538331630000</td>\n",
       "      <td>8</td>\n",
       "      <td>Knocking On Forbidden Doors</td>\n",
       "      <td>200</td>\n",
       "      <td>1538352416000</td>\n",
       "      <td>\"Mozilla/5.0 (Windows NT 6.1; WOW64) AppleWebK...</td>\n",
       "      <td>9</td>\n",
       "    </tr>\n",
       "    <tr>\n",
       "      <th>4</th>\n",
       "      <td>Daft Punk</td>\n",
       "      <td>Logged In</td>\n",
       "      <td>Colin</td>\n",
       "      <td>M</td>\n",
       "      <td>52</td>\n",
       "      <td>Freeman</td>\n",
       "      <td>223.60771</td>\n",
       "      <td>paid</td>\n",
       "      <td>Bakersfield, CA</td>\n",
       "      <td>PUT</td>\n",
       "      <td>NextSong</td>\n",
       "      <td>1538173362000</td>\n",
       "      <td>29</td>\n",
       "      <td>Harder Better Faster Stronger</td>\n",
       "      <td>200</td>\n",
       "      <td>1538352676000</td>\n",
       "      <td>Mozilla/5.0 (Windows NT 6.1; WOW64; rv:31.0) G...</td>\n",
       "      <td>30</td>\n",
       "    </tr>\n",
       "  </tbody>\n",
       "</table>\n",
       "</div>"
      ],
      "text/plain": [
       "             artist       auth firstName gender  itemInSession lastName  \\\n",
       "0    Martha Tilston  Logged In     Colin      M             50  Freeman   \n",
       "1  Five Iron Frenzy  Logged In     Micah      M             79     Long   \n",
       "2      Adam Lambert  Logged In     Colin      M             51  Freeman   \n",
       "3            Enigma  Logged In     Micah      M             80     Long   \n",
       "4         Daft Punk  Logged In     Colin      M             52  Freeman   \n",
       "\n",
       "      length level                        location method      page  \\\n",
       "0  277.89016  paid                 Bakersfield, CA    PUT  NextSong   \n",
       "1  236.09424  free  Boston-Cambridge-Newton, MA-NH    PUT  NextSong   \n",
       "2  282.82730  paid                 Bakersfield, CA    PUT  NextSong   \n",
       "3  262.71302  free  Boston-Cambridge-Newton, MA-NH    PUT  NextSong   \n",
       "4  223.60771  paid                 Bakersfield, CA    PUT  NextSong   \n",
       "\n",
       "    registration  sessionId                           song  status  \\\n",
       "0  1538173362000         29                      Rockpools     200   \n",
       "1  1538331630000          8                         Canada     200   \n",
       "2  1538173362000         29              Time For Miracles     200   \n",
       "3  1538331630000          8    Knocking On Forbidden Doors     200   \n",
       "4  1538173362000         29  Harder Better Faster Stronger     200   \n",
       "\n",
       "              ts                                          userAgent userId  \n",
       "0  1538352117000  Mozilla/5.0 (Windows NT 6.1; WOW64; rv:31.0) G...     30  \n",
       "1  1538352180000  \"Mozilla/5.0 (Windows NT 6.1; WOW64) AppleWebK...      9  \n",
       "2  1538352394000  Mozilla/5.0 (Windows NT 6.1; WOW64; rv:31.0) G...     30  \n",
       "3  1538352416000  \"Mozilla/5.0 (Windows NT 6.1; WOW64) AppleWebK...      9  \n",
       "4  1538352676000  Mozilla/5.0 (Windows NT 6.1; WOW64; rv:31.0) G...     30  "
      ]
     },
     "execution_count": 14,
     "metadata": {},
     "output_type": "execute_result"
    }
   ],
   "source": [
    "pandas_data = df.toPandas()\n",
    "pandas_data.head()"
   ]
  },
  {
   "cell_type": "markdown",
   "metadata": {},
   "source": [
    "> Data looks clean and ready for EDA and modeling. However if during the EDA we identify a few other issues, we will go ahead and perform any necessary preprocessing."
   ]
  },
  {
   "cell_type": "markdown",
   "metadata": {},
   "source": [
    " "
   ]
  },
  {
   "cell_type": "markdown",
   "metadata": {},
   "source": [
    "## 3. Exploratory Data Analysis<a id='eda'></a>\n",
    "\n",
    "[Move Up](#mu)"
   ]
  },
  {
   "cell_type": "markdown",
   "metadata": {},
   "source": [
    "One of the goals for this project as mentioned earlier is to perform some exploratory data analysis to observe the behavior for users who stayed vs users who churned. Based on this stated goal, we will perform any set of analysis to obtain insights that can help us arrive at some plausible conclusions.\n",
    "\n",
    "To achieve the first goal, we will perform the following tasks.\n",
    "\n",
    "#### Define Churn\n",
    "\n",
    "Once we've done some preliminary analysis, create a column `Churn` to use as the label for your model. We will use the `Cancellation Confirmation` events to define our churn, which happen for both paid and free users. \n",
    "\n",
    "#### Explore Data\n",
    "Once we've defined churn, we will perform some exploratory data analysis to observe the behavior for users who stayed vs users who churned."
   ]
  },
  {
   "cell_type": "markdown",
   "metadata": {},
   "source": [
    " "
   ]
  },
  {
   "cell_type": "markdown",
   "metadata": {},
   "source": [
    "#### Define Churn\n",
    "\n",
    "The first step before the EDA is to identify and create the churn column in our dataframe."
   ]
  },
  {
   "cell_type": "code",
   "execution_count": 15,
   "metadata": {},
   "outputs": [
    {
     "name": "stdout",
     "output_type": "stream",
     "text": [
      "+--------------------+\n",
      "|                page|\n",
      "+--------------------+\n",
      "|              Cancel|\n",
      "|    Submit Downgrade|\n",
      "|         Thumbs Down|\n",
      "|                Home|\n",
      "|           Downgrade|\n",
      "|         Roll Advert|\n",
      "|              Logout|\n",
      "|       Save Settings|\n",
      "|Cancellation Conf...|\n",
      "|               About|\n",
      "|            Settings|\n",
      "|     Add to Playlist|\n",
      "|          Add Friend|\n",
      "|            NextSong|\n",
      "|           Thumbs Up|\n",
      "|                Help|\n",
      "|             Upgrade|\n",
      "|               Error|\n",
      "|      Submit Upgrade|\n",
      "+--------------------+\n",
      "\n"
     ]
    }
   ],
   "source": [
    "# Check different pages\n",
    "\n",
    "df.select(\"page\").dropDuplicates().show()"
   ]
  },
  {
   "cell_type": "markdown",
   "metadata": {},
   "source": [
    "> As seen above, the `Cancellation Confirmation` represents users whose cancellation request has been confirmed and these are the users we will classify as churned users."
   ]
  },
  {
   "cell_type": "markdown",
   "metadata": {},
   "source": [
    "Lets inspect the number of users who have cancelled their subscription."
   ]
  },
  {
   "cell_type": "code",
   "execution_count": 16,
   "metadata": {},
   "outputs": [
    {
     "data": {
      "text/plain": [
       "52"
      ]
     },
     "execution_count": 16,
     "metadata": {},
     "output_type": "execute_result"
    }
   ],
   "source": [
    "# Number of users who churned\n",
    "\n",
    "df.select([\"userId\", \"page\"]).where(df.page == \"Cancellation Confirmation\").count()"
   ]
  },
  {
   "cell_type": "markdown",
   "metadata": {},
   "source": [
    "> We can see that out of the data there are only 52 users who have cancelled their subscription. This is just a small number as compared to the 286500 records. We will go ahead and inspect the `cancel` page and `submit downgrade` page."
   ]
  },
  {
   "cell_type": "code",
   "execution_count": 17,
   "metadata": {},
   "outputs": [
    {
     "data": {
      "text/plain": [
       "52"
      ]
     },
     "execution_count": 17,
     "metadata": {},
     "output_type": "execute_result"
    }
   ],
   "source": [
    "# Number of users who churned\n",
    "\n",
    "df.select([\"userId\", \"page\"]).where(df.page == \"Cancel\").count()"
   ]
  },
  {
   "cell_type": "code",
   "execution_count": 18,
   "metadata": {},
   "outputs": [
    {
     "data": {
      "text/plain": [
       "2055"
      ]
     },
     "execution_count": 18,
     "metadata": {},
     "output_type": "execute_result"
    }
   ],
   "source": [
    "# Number of users who churned\n",
    "\n",
    "df.select([\"userId\", \"page\"]).where(df.page == \"Downgrade\").count()"
   ]
  },
  {
   "cell_type": "code",
   "execution_count": 19,
   "metadata": {},
   "outputs": [
    {
     "data": {
      "text/plain": [
       "63"
      ]
     },
     "execution_count": 19,
     "metadata": {},
     "output_type": "execute_result"
    }
   ],
   "source": [
    "# Number of users who churned\n",
    "\n",
    "df.select([\"userId\", \"page\"]).where(df.page == \"Submit Downgrade\").count()"
   ]
  },
  {
   "cell_type": "markdown",
   "metadata": {},
   "source": [
    "> We can see that out of 52 users who wanted to cancel, the same number had their cancellations confirmed. As a result, we will use the `Cancellation Confirmation` page for users who churned."
   ]
  },
  {
   "cell_type": "code",
   "execution_count": 20,
   "metadata": {},
   "outputs": [],
   "source": [
    "# Create 1s and 0s for these users\n",
    "\n",
    "churn_event = udf(lambda x: 1 if x == \"Cancellation Confirmation\" else 0, IntegerType())"
   ]
  },
  {
   "cell_type": "code",
   "execution_count": 21,
   "metadata": {},
   "outputs": [],
   "source": [
    "# Create a column with churn_event\n",
    "\n",
    "df = df.withColumn(\"churn\", churn_event(\"page\"))"
   ]
  },
  {
   "cell_type": "code",
   "execution_count": 22,
   "metadata": {},
   "outputs": [],
   "source": [
    "new_df = df.toPandas()"
   ]
  },
  {
   "cell_type": "code",
   "execution_count": 23,
   "metadata": {},
   "outputs": [
    {
     "data": {
      "text/html": [
       "<div>\n",
       "<style scoped>\n",
       "    .dataframe tbody tr th:only-of-type {\n",
       "        vertical-align: middle;\n",
       "    }\n",
       "\n",
       "    .dataframe tbody tr th {\n",
       "        vertical-align: top;\n",
       "    }\n",
       "\n",
       "    .dataframe thead th {\n",
       "        text-align: right;\n",
       "    }\n",
       "</style>\n",
       "<table border=\"1\" class=\"dataframe\">\n",
       "  <thead>\n",
       "    <tr style=\"text-align: right;\">\n",
       "      <th></th>\n",
       "      <th>artist</th>\n",
       "      <th>auth</th>\n",
       "      <th>firstName</th>\n",
       "      <th>gender</th>\n",
       "      <th>itemInSession</th>\n",
       "      <th>lastName</th>\n",
       "      <th>length</th>\n",
       "      <th>level</th>\n",
       "      <th>location</th>\n",
       "      <th>method</th>\n",
       "      <th>page</th>\n",
       "      <th>registration</th>\n",
       "      <th>sessionId</th>\n",
       "      <th>song</th>\n",
       "      <th>status</th>\n",
       "      <th>ts</th>\n",
       "      <th>userAgent</th>\n",
       "      <th>userId</th>\n",
       "      <th>churn</th>\n",
       "    </tr>\n",
       "  </thead>\n",
       "  <tbody>\n",
       "    <tr>\n",
       "      <th>19592</th>\n",
       "      <td>None</td>\n",
       "      <td>Cancelled</td>\n",
       "      <td>Adriel</td>\n",
       "      <td>M</td>\n",
       "      <td>104</td>\n",
       "      <td>Mendoza</td>\n",
       "      <td>NaN</td>\n",
       "      <td>paid</td>\n",
       "      <td>Kansas City, MO-KS</td>\n",
       "      <td>GET</td>\n",
       "      <td>Cancellation Confirmation</td>\n",
       "      <td>1535623466000</td>\n",
       "      <td>514</td>\n",
       "      <td>None</td>\n",
       "      <td>200</td>\n",
       "      <td>1538943990000</td>\n",
       "      <td>\"Mozilla/5.0 (Macintosh; Intel Mac OS X 10_9_4...</td>\n",
       "      <td>18</td>\n",
       "      <td>1</td>\n",
       "    </tr>\n",
       "    <tr>\n",
       "      <th>23072</th>\n",
       "      <td>None</td>\n",
       "      <td>Cancelled</td>\n",
       "      <td>Diego</td>\n",
       "      <td>M</td>\n",
       "      <td>56</td>\n",
       "      <td>Mckee</td>\n",
       "      <td>NaN</td>\n",
       "      <td>paid</td>\n",
       "      <td>Phoenix-Mesa-Scottsdale, AZ</td>\n",
       "      <td>GET</td>\n",
       "      <td>Cancellation Confirmation</td>\n",
       "      <td>1537167593000</td>\n",
       "      <td>540</td>\n",
       "      <td>None</td>\n",
       "      <td>200</td>\n",
       "      <td>1539033046000</td>\n",
       "      <td>\"Mozilla/5.0 (iPhone; CPU iPhone OS 7_1_2 like...</td>\n",
       "      <td>32</td>\n",
       "      <td>1</td>\n",
       "    </tr>\n",
       "  </tbody>\n",
       "</table>\n",
       "</div>"
      ],
      "text/plain": [
       "      artist       auth firstName gender  itemInSession lastName  length  \\\n",
       "19592   None  Cancelled    Adriel      M            104  Mendoza     NaN   \n",
       "23072   None  Cancelled     Diego      M             56    Mckee     NaN   \n",
       "\n",
       "      level                     location method                       page  \\\n",
       "19592  paid           Kansas City, MO-KS    GET  Cancellation Confirmation   \n",
       "23072  paid  Phoenix-Mesa-Scottsdale, AZ    GET  Cancellation Confirmation   \n",
       "\n",
       "        registration  sessionId  song  status             ts  \\\n",
       "19592  1535623466000        514  None     200  1538943990000   \n",
       "23072  1537167593000        540  None     200  1539033046000   \n",
       "\n",
       "                                               userAgent userId  churn  \n",
       "19592  \"Mozilla/5.0 (Macintosh; Intel Mac OS X 10_9_4...     18      1  \n",
       "23072  \"Mozilla/5.0 (iPhone; CPU iPhone OS 7_1_2 like...     32      1  "
      ]
     },
     "execution_count": 23,
     "metadata": {},
     "output_type": "execute_result"
    }
   ],
   "source": [
    "new_df[new_df[\"page\"] == \"Cancellation Confirmation\"].head(2)"
   ]
  },
  {
   "cell_type": "code",
   "execution_count": 24,
   "metadata": {},
   "outputs": [],
   "source": [
    "# Sort records for a user in reverse time order so we can add up vals in churn column\n",
    "\n",
    "windowval = Window.partitionBy(\"userId\").orderBy(desc(\"ts\")).rangeBetween(Window.unboundedPreceding, 0)"
   ]
  },
  {
   "cell_type": "code",
   "execution_count": 25,
   "metadata": {},
   "outputs": [],
   "source": [
    "# Create column churn which contains sum of churn 1s over records\n",
    "\n",
    "df = df.withColumn(\"churn\", Fsum(\"churn\").over(windowval))"
   ]
  },
  {
   "cell_type": "code",
   "execution_count": 26,
   "metadata": {},
   "outputs": [],
   "source": [
    "# Groupby churn to get counts\n",
    "\n",
    "df_churn = df.select(['userId', 'churn']).dropDuplicates().groupBy('churn').count()"
   ]
  },
  {
   "cell_type": "code",
   "execution_count": 27,
   "metadata": {},
   "outputs": [
    {
     "name": "stdout",
     "output_type": "stream",
     "text": [
      "+-----+-----+\n",
      "|churn|count|\n",
      "+-----+-----+\n",
      "|    0|  173|\n",
      "|    1|   52|\n",
      "+-----+-----+\n",
      "\n"
     ]
    }
   ],
   "source": [
    "df_churn.show()"
   ]
  },
  {
   "cell_type": "markdown",
   "metadata": {},
   "source": [
    "> Now we have our churn column added successfully."
   ]
  },
  {
   "cell_type": "markdown",
   "metadata": {},
   "source": [
    " "
   ]
  },
  {
   "cell_type": "markdown",
   "metadata": {},
   "source": [
    "#### Explore Data"
   ]
  },
  {
   "cell_type": "markdown",
   "metadata": {},
   "source": [
    "Next step is to perfrom any preliminiary analysis on the data."
   ]
  },
  {
   "cell_type": "markdown",
   "metadata": {},
   "source": [
    "##### 1. Determine the count of churn count and rate for this data."
   ]
  },
  {
   "cell_type": "code",
   "execution_count": 28,
   "metadata": {},
   "outputs": [],
   "source": [
    "df_churn = df_churn.toPandas()"
   ]
  },
  {
   "cell_type": "code",
   "execution_count": 29,
   "metadata": {},
   "outputs": [
    {
     "data": {
      "image/png": "[encoded data removed]",
      "text/plain": [
       "<matplotlib.figure.Figure at 0x7fbd91a9b128>"
      ]
     },
     "metadata": {
      "needs_background": "light"
     },
     "output_type": "display_data"
    }
   ],
   "source": [
    "# Visualize churned users\n",
    "\n",
    "plt.figure(figsize = [8,6])\n",
    "ax = sns.barplot(data = df_churn, x = 'churn', y='count')\n",
    "plt.title(\"Numbers of Users That Churned\");"
   ]
  },
  {
   "cell_type": "markdown",
   "metadata": {},
   "source": [
    "Now lets calculate the churn rate."
   ]
  },
  {
   "cell_type": "code",
   "execution_count": 30,
   "metadata": {},
   "outputs": [],
   "source": [
    "# Churn rate\n",
    "\n",
    "churn_rate = 52 / (173+52) * 100"
   ]
  },
  {
   "cell_type": "code",
   "execution_count": 31,
   "metadata": {},
   "outputs": [
    {
     "name": "stdout",
     "output_type": "stream",
     "text": [
      "Calculated churn rate is 23.11111111111111%\n"
     ]
    }
   ],
   "source": [
    "print(f\"Calculated churn rate is {churn_rate}%\")"
   ]
  },
  {
   "cell_type": "markdown",
   "metadata": {},
   "source": [
    "> The total number of users who churned were 52 and those who stayed were 173. As a result the rate of churn is less than 50% at about 23%. This rate is significantly high."
   ]
  },
  {
   "cell_type": "markdown",
   "metadata": {},
   "source": [
    "##### 2. Duration of users who stayed and those who churned"
   ]
  },
  {
   "cell_type": "code",
   "execution_count": 32,
   "metadata": {},
   "outputs": [],
   "source": [
    "df_len = df.filter(df.churn ==1)\n",
    "len_df = df_len.toPandas()\n",
    "len_df.length.dropna(inplace=True)"
   ]
  },
  {
   "cell_type": "code",
   "execution_count": 33,
   "metadata": {},
   "outputs": [
    {
     "data": {
      "image/png": "[encoded data removed]",
      "text/plain": [
       "<matplotlib.figure.Figure at 0x7fbd7d7da470>"
      ]
     },
     "metadata": {
      "needs_background": "light"
     },
     "output_type": "display_data"
    }
   ],
   "source": [
    "# plot the distribution\n",
    "bin_edges = np.arange (10, len_df['length'].max()+25, 25)\n",
    "plt.hist(data = len_df, x = 'length', bins = bin_edges)\n",
    "plt.xlim(0,700)\n",
    "plt.xlabel('Length')\n",
    "plt.ylabel('Frequency');"
   ]
  },
  {
   "cell_type": "code",
   "execution_count": 34,
   "metadata": {},
   "outputs": [],
   "source": [
    "df_len_stay = df.filter(df.churn ==0)\n",
    "len_df_stay = df_len_stay.toPandas()\n",
    "len_df_stay.length.dropna(inplace=True)"
   ]
  },
  {
   "cell_type": "code",
   "execution_count": 35,
   "metadata": {},
   "outputs": [
    {
     "data": {
      "image/png": "[encoded data removed]",
      "text/plain": [
       "<matplotlib.figure.Figure at 0x7fbd9ecf8198>"
      ]
     },
     "metadata": {
      "needs_background": "light"
     },
     "output_type": "display_data"
    }
   ],
   "source": [
    "# plot the distribution\n",
    "bin_edges = np.arange (10, len_df_stay['length'].max()+25, 25)\n",
    "plt.hist(data = len_df_stay, x = 'length', bins = bin_edges)\n",
    "plt.xlim(0,700)\n",
    "plt.xlabel('Length')\n",
    "plt.ylabel('Frequency');"
   ]
  },
  {
   "cell_type": "markdown",
   "metadata": {},
   "source": [
    "> From the 2 graphs above, we can infer that the duration for users who churned and those who stayed looks relatively the same, almost normally distributed about the point 200."
   ]
  },
  {
   "cell_type": "markdown",
   "metadata": {},
   "source": [
    "##### Churn by Gender"
   ]
  },
  {
   "cell_type": "code",
   "execution_count": 36,
   "metadata": {},
   "outputs": [],
   "source": [
    "# Create gender df grouped by churn and gender\n",
    "\n",
    "df_gender = df.select(['userId', 'churn', 'gender']).dropDuplicates().groupBy('gender', 'churn').count()"
   ]
  },
  {
   "cell_type": "code",
   "execution_count": 37,
   "metadata": {},
   "outputs": [
    {
     "name": "stdout",
     "output_type": "stream",
     "text": [
      "+------+-----+-----+\n",
      "|gender|churn|count|\n",
      "+------+-----+-----+\n",
      "|     F|    0|   84|\n",
      "|     F|    1|   20|\n",
      "|     M|    0|   89|\n",
      "|     M|    1|   32|\n",
      "+------+-----+-----+\n",
      "\n"
     ]
    }
   ],
   "source": [
    "df_gender.show()"
   ]
  },
  {
   "cell_type": "code",
   "execution_count": 38,
   "metadata": {},
   "outputs": [],
   "source": [
    "df_gender = df_gender.toPandas()\n",
    "df_gender = df_gender.sort_values('count', ascending = False)"
   ]
  },
  {
   "cell_type": "code",
   "execution_count": 39,
   "metadata": {},
   "outputs": [
    {
     "data": {
      "image/png": "[encoded data removed]",
      "text/plain": [
       "<matplotlib.figure.Figure at 0x7fbd9f2102e8>"
      ]
     },
     "metadata": {
      "needs_background": "light"
     },
     "output_type": "display_data"
    }
   ],
   "source": [
    "# seaborn barplot\n",
    "plt.figure(figsize = [8,6])\n",
    "ax = sns.barplot(data = df_gender, x = 'churn', y='count', hue = 'gender')\n",
    "ax.legend(loc = 1, ncol = 2, framealpha =1, title = 'gender')\n",
    "plt.title(\"Number of Users That Churned by Gender\");"
   ]
  },
  {
   "cell_type": "markdown",
   "metadata": {},
   "source": [
    "> From the graph we can see that more male users churned as compared to their female counterparts."
   ]
  },
  {
   "cell_type": "markdown",
   "metadata": {},
   "source": [
    "##### Churn by Level"
   ]
  },
  {
   "cell_type": "code",
   "execution_count": 40,
   "metadata": {},
   "outputs": [],
   "source": [
    "# Create the level dataframe\n",
    "\n",
    "df_level = df.select(['userId', 'churn', 'level']).dropDuplicates().groupBy('level','churn').count()"
   ]
  },
  {
   "cell_type": "code",
   "execution_count": 41,
   "metadata": {},
   "outputs": [
    {
     "name": "stdout",
     "output_type": "stream",
     "text": [
      "+-----+-----+-----+\n",
      "|level|churn|count|\n",
      "+-----+-----+-----+\n",
      "| free|    0|  149|\n",
      "| paid|    0|  129|\n",
      "| free|    1|   46|\n",
      "| paid|    1|   36|\n",
      "+-----+-----+-----+\n",
      "\n"
     ]
    }
   ],
   "source": [
    "df_level.show()"
   ]
  },
  {
   "cell_type": "code",
   "execution_count": 42,
   "metadata": {},
   "outputs": [],
   "source": [
    "df_level = df_level.toPandas()"
   ]
  },
  {
   "cell_type": "code",
   "execution_count": 43,
   "metadata": {},
   "outputs": [
    {
     "data": {
      "image/png": "[encoded data removed]",
      "text/plain": [
       "<matplotlib.figure.Figure at 0x7fbdc2a02518>"
      ]
     },
     "metadata": {
      "needs_background": "light"
     },
     "output_type": "display_data"
    }
   ],
   "source": [
    "# plot the barplot using seaborn\n",
    "plt.figure(figsize = [8,6])\n",
    "ax = sns.barplot(data = df_level, x = 'churn', y='count', hue = 'level')\n",
    "ax.legend(loc = 1, ncol = 2, framealpha =1, title = 'level')\n",
    "plt.title(\"Number of Users That Churned by Level\");"
   ]
  },
  {
   "cell_type": "markdown",
   "metadata": {},
   "source": [
    " "
   ]
  },
  {
   "cell_type": "markdown",
   "metadata": {},
   "source": [
    "## 4. Feature Engineering and Selection<a id='fe'></a>\n",
    "\n",
    "[Move Up](#mu)\n",
    "    \n",
    "    \n",
    "After performing Exploratory Data Analysis (EDA), we are ready to build the features that will be used to train our predictive model. These features include both categorical and numerical variables:\n",
    "\n",
    "**Categorical Features:**\n",
    "- `gender`: Gender of the user.\n",
    "- `level`: Subscription level (free or premium).\n",
    "\n",
    "**Numerical Features:**\n",
    "- `number of songs per session`: The average number of songs played per session.\n",
    "- `number of rollads actions`: Total number of \"Roll Advert\" actions.\n",
    "- `number of thumb down actions`: Total number of \"Thumbs Down\" actions.\n",
    "- `number of thumbs up actions`: Total number of \"Thumbs Up\" actions.\n",
    "- `number of friends added`: Total number of friends added.\n",
    "- `number of songs added to playlist`: Total number of songs added to user playlists.\n",
    "- `number of different artists listened to`: Total number of unique artists listened to on Sparkify.\n",
    "- `number of days since registering`: Time elapsed since the user registered.\n",
    "\n",
    "These features will be used to create a user-level dataframe, where each row represents information about an individual user. We will also introduce a `churn` label indicating whether a user has churned or not. Once the `userId` column is dropped, this dataframe can be vectorized, standardized, and fed into various machine learning algorithms.\n",
    "\n",
    "To prepare the categorical variables for modeling, we will convert them into numeric format.\n"
   ]
  },
  {
   "cell_type": "markdown",
   "metadata": {},
   "source": [
    "#### Gender Dummies"
   ]
  },
  {
   "cell_type": "code",
   "execution_count": 44,
   "metadata": {},
   "outputs": [],
   "source": [
    "# Create gender dataframe\n",
    "\n",
    "gender = df.select(['userId', 'gender']).dropDuplicates()"
   ]
  },
  {
   "cell_type": "code",
   "execution_count": 45,
   "metadata": {},
   "outputs": [],
   "source": [
    "# Create gender column\n",
    "\n",
    "gender = gender.withColumn('gender', when(col('gender') == 'F', 1).otherwise(0))"
   ]
  },
  {
   "cell_type": "markdown",
   "metadata": {},
   "source": [
    " "
   ]
  },
  {
   "cell_type": "markdown",
   "metadata": {},
   "source": [
    "#### Level\n",
    "\n",
    "Next feature is the `level` column. Since there are different same levels for same user at different times, we will use the ranking technique so we can have the most recent levels for each user at the top."
   ]
  },
  {
   "cell_type": "markdown",
   "metadata": {},
   "source": [
    "First lets go ahead and rank each user level base on time."
   ]
  },
  {
   "cell_type": "code",
   "execution_count": 46,
   "metadata": {},
   "outputs": [],
   "source": [
    "df2 = df.select(['userId', 'level', 'ts']).dropDuplicates().sort('userId')"
   ]
  },
  {
   "cell_type": "code",
   "execution_count": 47,
   "metadata": {},
   "outputs": [],
   "source": [
    "w = Window.partitionBy(\"userId\").orderBy(desc(\"ts\"))"
   ]
  },
  {
   "cell_type": "code",
   "execution_count": 48,
   "metadata": {},
   "outputs": [],
   "source": [
    "df2 = df2.withColumn(\"Rank\", dense_rank().over(w))"
   ]
  },
  {
   "cell_type": "markdown",
   "metadata": {},
   "source": [
    " "
   ]
  },
  {
   "cell_type": "markdown",
   "metadata": {},
   "source": [
    "Now lets filter for only rank 1 and convert to dummy numbers(1s and 0s) "
   ]
  },
  {
   "cell_type": "code",
   "execution_count": 49,
   "metadata": {},
   "outputs": [],
   "source": [
    "level = df2.filter(df2.Rank == 1).drop(df2.Rank)"
   ]
  },
  {
   "cell_type": "code",
   "execution_count": 50,
   "metadata": {},
   "outputs": [],
   "source": [
    "level = level.drop('ts')"
   ]
  },
  {
   "cell_type": "code",
   "execution_count": 51,
   "metadata": {},
   "outputs": [],
   "source": [
    "level = level.withColumn('level', when(col('level') == 'paid', 1).otherwise(0))"
   ]
  },
  {
   "cell_type": "code",
   "execution_count": 52,
   "metadata": {},
   "outputs": [
    {
     "name": "stdout",
     "output_type": "stream",
     "text": [
      "+------+-----+\n",
      "|userId|level|\n",
      "+------+-----+\n",
      "|    10|    1|\n",
      "|   100|    1|\n",
      "|100001|    0|\n",
      "|100002|    1|\n",
      "|100003|    0|\n",
      "|100004|    1|\n",
      "|100005|    0|\n",
      "|100006|    0|\n",
      "|100007|    1|\n",
      "|100008|    0|\n",
      "|100009|    0|\n",
      "|100010|    0|\n",
      "|100011|    0|\n",
      "|100012|    0|\n",
      "|100013|    1|\n",
      "|100014|    1|\n",
      "|100015|    1|\n",
      "|100016|    0|\n",
      "|100017|    0|\n",
      "|100018|    0|\n",
      "+------+-----+\n",
      "only showing top 20 rows\n",
      "\n"
     ]
    }
   ],
   "source": [
    "level.show(20)"
   ]
  },
  {
   "cell_type": "markdown",
   "metadata": {},
   "source": [
    " "
   ]
  },
  {
   "cell_type": "markdown",
   "metadata": {},
   "source": [
    "#### Average number of songs"
   ]
  },
  {
   "cell_type": "code",
   "execution_count": 53,
   "metadata": {},
   "outputs": [],
   "source": [
    "song = df.filter(df.page == \"NextSong\").groupBy('userId','sessionId').count()"
   ]
  },
  {
   "cell_type": "code",
   "execution_count": 54,
   "metadata": {},
   "outputs": [
    {
     "name": "stdout",
     "output_type": "stream",
     "text": [
      "+------+---------+-----+\n",
      "|userId|sessionId|count|\n",
      "+------+---------+-----+\n",
      "|    92|      358|   57|\n",
      "|    42|      433|   16|\n",
      "+------+---------+-----+\n",
      "only showing top 2 rows\n",
      "\n"
     ]
    }
   ],
   "source": [
    "df.filter(df.page == \"NextSong\").groupBy('userId','sessionId').count().show(2)"
   ]
  },
  {
   "cell_type": "code",
   "execution_count": 55,
   "metadata": {},
   "outputs": [],
   "source": [
    "song = song.groupby('userId').agg({\"count\":\"avg\"})\n",
    "song = song.withColumnRenamed(\"avg(count)\", \"avg_song\")"
   ]
  },
  {
   "cell_type": "code",
   "execution_count": 56,
   "metadata": {},
   "outputs": [
    {
     "name": "stdout",
     "output_type": "stream",
     "text": [
      "+------+------------------+\n",
      "|userId|          avg_song|\n",
      "+------+------------------+\n",
      "|100010|39.285714285714285|\n",
      "|200002|              64.5|\n",
      "+------+------------------+\n",
      "only showing top 2 rows\n",
      "\n"
     ]
    }
   ],
   "source": [
    "song.show(2)"
   ]
  },
  {
   "cell_type": "markdown",
   "metadata": {},
   "source": [
    " "
   ]
  },
  {
   "cell_type": "markdown",
   "metadata": {},
   "source": [
    "#### Number of rollads actions"
   ]
  },
  {
   "cell_type": "code",
   "execution_count": 57,
   "metadata": {},
   "outputs": [],
   "source": [
    "rollad = df.select([\"userId\", \"page\"])"
   ]
  },
  {
   "cell_type": "code",
   "execution_count": 58,
   "metadata": {},
   "outputs": [],
   "source": [
    "rollad_event = udf(lambda x: 1 if x == \"Roll Advert\" else 0, IntegerType())"
   ]
  },
  {
   "cell_type": "code",
   "execution_count": 59,
   "metadata": {},
   "outputs": [],
   "source": [
    "rollad = rollad.withColumn(\"rollad\", rollad_event(\"page\"))"
   ]
  },
  {
   "cell_type": "code",
   "execution_count": 60,
   "metadata": {},
   "outputs": [],
   "source": [
    "rollad = rollad.groupby('userId').sum(\"rollad\")"
   ]
  },
  {
   "cell_type": "code",
   "execution_count": 61,
   "metadata": {},
   "outputs": [],
   "source": [
    "rollad = rollad.withColumnRenamed(\"sum(rollad)\", \"roll_ad\")"
   ]
  },
  {
   "cell_type": "code",
   "execution_count": 62,
   "metadata": {},
   "outputs": [
    {
     "name": "stdout",
     "output_type": "stream",
     "text": [
      "+------+-------+\n",
      "|userId|roll_ad|\n",
      "+------+-------+\n",
      "|100010|     52|\n",
      "|200002|      7|\n",
      "+------+-------+\n",
      "only showing top 2 rows\n",
      "\n"
     ]
    }
   ],
   "source": [
    "rollad.show(2)"
   ]
  },
  {
   "cell_type": "markdown",
   "metadata": {},
   "source": [
    " "
   ]
  },
  {
   "cell_type": "markdown",
   "metadata": {},
   "source": [
    "#### Number of friends added"
   ]
  },
  {
   "cell_type": "code",
   "execution_count": 63,
   "metadata": {},
   "outputs": [],
   "source": [
    "friends = df.select([\"userId\", \"page\"])"
   ]
  },
  {
   "cell_type": "code",
   "execution_count": 64,
   "metadata": {},
   "outputs": [],
   "source": [
    "add_friend = udf(lambda x: 1 if x == \"Add Friend\" else 0, IntegerType())"
   ]
  },
  {
   "cell_type": "code",
   "execution_count": 65,
   "metadata": {},
   "outputs": [],
   "source": [
    "friends = friends.withColumn(\"add_friend\", add_friend(\"page\"))"
   ]
  },
  {
   "cell_type": "code",
   "execution_count": 66,
   "metadata": {},
   "outputs": [],
   "source": [
    "friends = friends.groupby('userId').sum(\"add_friend\")"
   ]
  },
  {
   "cell_type": "code",
   "execution_count": 67,
   "metadata": {},
   "outputs": [],
   "source": [
    "friends = friends.withColumnRenamed(\"sum(add_friend)\", \"add_friend\")"
   ]
  },
  {
   "cell_type": "code",
   "execution_count": 68,
   "metadata": {},
   "outputs": [
    {
     "name": "stdout",
     "output_type": "stream",
     "text": [
      "+------+----------+\n",
      "|userId|add_friend|\n",
      "+------+----------+\n",
      "|100010|         4|\n",
      "|200002|         4|\n",
      "+------+----------+\n",
      "only showing top 2 rows\n",
      "\n"
     ]
    }
   ],
   "source": [
    "friends.show(2)"
   ]
  },
  {
   "cell_type": "markdown",
   "metadata": {},
   "source": [
    " "
   ]
  },
  {
   "cell_type": "markdown",
   "metadata": {},
   "source": [
    "#### Thumbs down actions"
   ]
  },
  {
   "cell_type": "code",
   "execution_count": 69,
   "metadata": {},
   "outputs": [],
   "source": [
    "thumbdown = df.select([\"userId\", \"page\"])"
   ]
  },
  {
   "cell_type": "code",
   "execution_count": 70,
   "metadata": {},
   "outputs": [],
   "source": [
    "thumddown_event = udf(lambda x: 1 if x == \"Thumbs Down\" else 0, IntegerType())"
   ]
  },
  {
   "cell_type": "code",
   "execution_count": 71,
   "metadata": {},
   "outputs": [],
   "source": [
    "thumbdown = thumbdown.withColumn(\"Thumbs Down\", thumddown_event(\"page\"))\n",
    "thumbdown = thumbdown.groupby('userId').sum(\"Thumbs Down\")\n",
    "thumbdown = thumbdown.withColumnRenamed(\"sum(Thumbs Down)\", \"thumbs_down\")"
   ]
  },
  {
   "cell_type": "code",
   "execution_count": 72,
   "metadata": {},
   "outputs": [
    {
     "name": "stdout",
     "output_type": "stream",
     "text": [
      "+------+-----------+\n",
      "|userId|thumbs_down|\n",
      "+------+-----------+\n",
      "|100010|          5|\n",
      "|200002|          6|\n",
      "+------+-----------+\n",
      "only showing top 2 rows\n",
      "\n"
     ]
    }
   ],
   "source": [
    "thumbdown.show(2)"
   ]
  },
  {
   "cell_type": "markdown",
   "metadata": {},
   "source": [
    " "
   ]
  },
  {
   "cell_type": "markdown",
   "metadata": {},
   "source": [
    "#### Thumbs up actions"
   ]
  },
  {
   "cell_type": "code",
   "execution_count": 73,
   "metadata": {},
   "outputs": [],
   "source": [
    "thumbup = df.select([\"userId\", \"page\"])"
   ]
  },
  {
   "cell_type": "code",
   "execution_count": 74,
   "metadata": {},
   "outputs": [],
   "source": [
    "thumbup_event = udf(lambda x: 1 if x == \"Thumbs Up\" else 0, IntegerType())"
   ]
  },
  {
   "cell_type": "code",
   "execution_count": 75,
   "metadata": {},
   "outputs": [],
   "source": [
    "thumbup = thumbup.withColumn(\"Thumbs Up\", thumbup_event(\"page\"))\n",
    "thumbup = thumbup.groupby('userId').sum(\"Thumbs Up\")\n",
    "thumbup = thumbup.withColumnRenamed(\"sum(Thumbs Up)\", \"thumbs_up\")"
   ]
  },
  {
   "cell_type": "code",
   "execution_count": 76,
   "metadata": {},
   "outputs": [
    {
     "name": "stdout",
     "output_type": "stream",
     "text": [
      "+------+---------+\n",
      "|userId|thumbs_up|\n",
      "+------+---------+\n",
      "|100010|       17|\n",
      "|200002|       21|\n",
      "+------+---------+\n",
      "only showing top 2 rows\n",
      "\n"
     ]
    }
   ],
   "source": [
    "thumbup.show(2)"
   ]
  },
  {
   "cell_type": "markdown",
   "metadata": {},
   "source": [
    " "
   ]
  },
  {
   "cell_type": "markdown",
   "metadata": {},
   "source": [
    "#### Playlist Songs"
   ]
  },
  {
   "cell_type": "code",
   "execution_count": 77,
   "metadata": {},
   "outputs": [],
   "source": [
    "playlist = df.select([\"userId\", \"page\"])"
   ]
  },
  {
   "cell_type": "code",
   "execution_count": 78,
   "metadata": {},
   "outputs": [],
   "source": [
    "add_playlist = udf(lambda x: 1 if x == \"Add to Playlist\" else 0, IntegerType())"
   ]
  },
  {
   "cell_type": "code",
   "execution_count": 79,
   "metadata": {},
   "outputs": [],
   "source": [
    "playlist = playlist.withColumn(\"Playlist\", add_playlist(\"page\"))\n",
    "playlist = playlist.groupby('userId').sum(\"Playlist\")\n",
    "playlist = playlist.withColumnRenamed(\"sum(Playlist)\", \"playlist\")"
   ]
  },
  {
   "cell_type": "code",
   "execution_count": 80,
   "metadata": {},
   "outputs": [
    {
     "name": "stdout",
     "output_type": "stream",
     "text": [
      "+------+--------+\n",
      "|userId|playlist|\n",
      "+------+--------+\n",
      "|100010|       7|\n",
      "|200002|       8|\n",
      "+------+--------+\n",
      "only showing top 2 rows\n",
      "\n"
     ]
    }
   ],
   "source": [
    "playlist.show(2)"
   ]
  },
  {
   "cell_type": "markdown",
   "metadata": {},
   "source": [
    " "
   ]
  },
  {
   "cell_type": "markdown",
   "metadata": {},
   "source": [
    "#### Artists listened to"
   ]
  },
  {
   "cell_type": "code",
   "execution_count": 81,
   "metadata": {},
   "outputs": [],
   "source": [
    "artists = df.select(\"userId\", \"artist\").dropDuplicates().groupby(\"userId\").count()"
   ]
  },
  {
   "cell_type": "code",
   "execution_count": 82,
   "metadata": {},
   "outputs": [],
   "source": [
    "artists = artists.withColumnRenamed(\"count\", \"num_artists\")"
   ]
  },
  {
   "cell_type": "code",
   "execution_count": 83,
   "metadata": {},
   "outputs": [
    {
     "name": "stdout",
     "output_type": "stream",
     "text": [
      "+------+-----------+\n",
      "|userId|num_artists|\n",
      "+------+-----------+\n",
      "|100010|        253|\n",
      "|200002|        340|\n",
      "+------+-----------+\n",
      "only showing top 2 rows\n",
      "\n"
     ]
    }
   ],
   "source": [
    "artists.show(2)"
   ]
  },
  {
   "cell_type": "markdown",
   "metadata": {},
   "source": [
    " "
   ]
  },
  {
   "cell_type": "markdown",
   "metadata": {},
   "source": [
    " "
   ]
  },
  {
   "cell_type": "markdown",
   "metadata": {},
   "source": [
    "#### User duration"
   ]
  },
  {
   "cell_type": "code",
   "execution_count": 86,
   "metadata": {},
   "outputs": [],
   "source": [
    "df_days = df.select(['userId', 'registration', 'ts', 'churn']).dropDuplicates().sort('userId')"
   ]
  },
  {
   "cell_type": "code",
   "execution_count": 87,
   "metadata": {},
   "outputs": [],
   "source": [
    "# Reorder timestamp\n",
    "\n",
    "w = Window.partitionBy(\"userId\").orderBy(desc(\"ts\"))"
   ]
  },
  {
   "cell_type": "code",
   "execution_count": 88,
   "metadata": {},
   "outputs": [],
   "source": [
    "# Generate a rank base on timestamp\n",
    "\n",
    "df_days = df_days.withColumn(\"Rank\", dense_rank().over(w))"
   ]
  },
  {
   "cell_type": "code",
   "execution_count": 89,
   "metadata": {},
   "outputs": [],
   "source": [
    "# Get only rank 1\n",
    "\n",
    "df_days = df_days.filter(df_days.Rank == 1).drop(df_days.Rank)"
   ]
  },
  {
   "cell_type": "code",
   "execution_count": 90,
   "metadata": {},
   "outputs": [],
   "source": [
    "# Subtract registration timestamp\n",
    "\n",
    "df_days = df_days.withColumn(\"delta_days\", (df_days['ts']) - (df_days['registration']))"
   ]
  },
  {
   "cell_type": "code",
   "execution_count": 91,
   "metadata": {},
   "outputs": [],
   "source": [
    "# Convert timestamp to days\n",
    "\n",
    "df_days = df_days.withColumn('days',(df_days['delta_days']/1000/3600/24))"
   ]
  },
  {
   "cell_type": "code",
   "execution_count": 92,
   "metadata": {},
   "outputs": [],
   "source": [
    "# Select only needed columns\n",
    "\n",
    "duration = df_days.drop('registration', 'ts', 'churn', 'delta_days')"
   ]
  },
  {
   "cell_type": "code",
   "execution_count": 93,
   "metadata": {},
   "outputs": [
    {
     "name": "stdout",
     "output_type": "stream",
     "text": [
      "+------+------------------+\n",
      "|userId|              days|\n",
      "+------+------------------+\n",
      "|    10| 51.76265046296297|\n",
      "|   100| 64.87377314814815|\n",
      "|100001| 44.80021990740741|\n",
      "|100002|160.47207175925925|\n",
      "|100003|22.748113425925926|\n",
      "|100004|172.44008101851853|\n",
      "|100005| 85.19559027777778|\n",
      "|100006| 9.127164351851851|\n",
      "|100007|115.38761574074074|\n",
      "|100008| 68.22856481481482|\n",
      "|100009| 37.43827546296296|\n",
      "|100010|  55.6436574074074|\n",
      "|100011| 5.165115740740741|\n",
      "|100012| 43.05261574074074|\n",
      "|100013| 44.17873842592593|\n",
      "|100014| 85.08340277777778|\n",
      "|100015| 67.87921296296297|\n",
      "|100016| 75.01533564814815|\n",
      "|100017| 78.88440972222223|\n",
      "|100018|110.71211805555555|\n",
      "+------+------------------+\n",
      "only showing top 20 rows\n",
      "\n"
     ]
    }
   ],
   "source": [
    "duration.show()"
   ]
  },
  {
   "cell_type": "markdown",
   "metadata": {},
   "source": [
    " "
   ]
  },
  {
   "cell_type": "markdown",
   "metadata": {},
   "source": [
    "##### Label"
   ]
  },
  {
   "cell_type": "code",
   "execution_count": 94,
   "metadata": {},
   "outputs": [],
   "source": [
    "label = df.select(\"userId\", \"churn\").dropDuplicates().groupby(\"userId\", \"churn\").count()"
   ]
  },
  {
   "cell_type": "code",
   "execution_count": 95,
   "metadata": {},
   "outputs": [],
   "source": [
    "label = label.drop('count')"
   ]
  },
  {
   "cell_type": "code",
   "execution_count": 96,
   "metadata": {},
   "outputs": [],
   "source": [
    "label = label.withColumnRenamed(\"churn\", \"label\")"
   ]
  },
  {
   "cell_type": "code",
   "execution_count": 97,
   "metadata": {},
   "outputs": [
    {
     "name": "stdout",
     "output_type": "stream",
     "text": [
      "+------+-----+\n",
      "|userId|label|\n",
      "+------+-----+\n",
      "|100010|    0|\n",
      "|200002|    0|\n",
      "|   125|    1|\n",
      "|   124|    0|\n",
      "|    51|    1|\n",
      "|     7|    0|\n",
      "|    15|    0|\n",
      "|    54|    1|\n",
      "|   155|    0|\n",
      "|100014|    1|\n",
      "|   132|    0|\n",
      "|   154|    0|\n",
      "|   101|    1|\n",
      "|    11|    0|\n",
      "|   138|    0|\n",
      "|300017|    0|\n",
      "|100021|    1|\n",
      "|    29|    1|\n",
      "|    69|    0|\n",
      "|   112|    0|\n",
      "+------+-----+\n",
      "only showing top 20 rows\n",
      "\n"
     ]
    }
   ],
   "source": [
    "label.show()"
   ]
  },
  {
   "cell_type": "markdown",
   "metadata": {},
   "source": [
    " "
   ]
  },
  {
   "cell_type": "markdown",
   "metadata": {},
   "source": [
    "#### Features Dataset"
   ]
  },
  {
   "cell_type": "code",
   "execution_count": 98,
   "metadata": {},
   "outputs": [],
   "source": [
    "# Merge all the engineered features\n",
    "\n",
    "feature_df = gender.join(level, [\"userId\"]).join(song, [\"userId\"]).join(rollad, [\"userId\"]). \\\n",
    "            join(thumbdown, [\"userId\"]).join(thumbup, [\"userId\"]).join(friend, [\"userId\"]). \\\n",
    "            join(playlist, [\"userId\"]).join(artists, [\"userId\"]).join(duration, [\"userId\"]).join(label, [\"userId\"])"
   ]
  },
  {
   "cell_type": "code",
   "execution_count": 99,
   "metadata": {},
   "outputs": [],
   "source": [
    "# Drop userid column\n",
    "\n",
    "feature_df = feature_df.drop('userId')"
   ]
  },
  {
   "cell_type": "code",
   "execution_count": 100,
   "metadata": {},
   "outputs": [
    {
     "name": "stdout",
     "output_type": "stream",
     "text": [
      "+------+-----+------------------+-------+-----------+---------+----------+--------+-----------+-----------------+-----+\n",
      "|gender|level|          avg_song|roll_ad|thumbs_down|thumbs_up|add_friend|playlist|num_artists|             days|label|\n",
      "+------+-----+------------------+-------+-----------+---------+----------+--------+-----------+-----------------+-----+\n",
      "|     1|    0|39.285714285714285|     52|          5|       17|         4|       7|        253| 55.6436574074074|    0|\n",
      "|     0|    1|              64.5|      7|          6|       21|         4|       8|        340|70.07462962962963|    0|\n",
      "+------+-----+------------------+-------+-----------+---------+----------+--------+-----------+-----------------+-----+\n",
      "only showing top 2 rows\n",
      "\n"
     ]
    }
   ],
   "source": [
    "feature_df.show(2)"
   ]
  },
  {
   "cell_type": "markdown",
   "metadata": {},
   "source": [
    " "
   ]
  },
  {
   "cell_type": "markdown",
   "metadata": {},
   "source": [
    "#### Preprocessing"
   ]
  },
  {
   "cell_type": "code",
   "execution_count": 101,
   "metadata": {},
   "outputs": [
    {
     "name": "stdout",
     "output_type": "stream",
     "text": [
      "root\n",
      " |-- gender: integer (nullable = false)\n",
      " |-- level: integer (nullable = false)\n",
      " |-- avg_song: double (nullable = true)\n",
      " |-- roll_ad: long (nullable = true)\n",
      " |-- thumbs_down: long (nullable = true)\n",
      " |-- thumbs_up: long (nullable = true)\n",
      " |-- add_friend: long (nullable = true)\n",
      " |-- playlist: long (nullable = true)\n",
      " |-- num_artists: long (nullable = false)\n",
      " |-- days: double (nullable = true)\n",
      " |-- label: long (nullable = true)\n",
      "\n"
     ]
    }
   ],
   "source": [
    "# Check schema\n",
    "\n",
    "feature_df.printSchema()"
   ]
  },
  {
   "cell_type": "code",
   "execution_count": 102,
   "metadata": {},
   "outputs": [],
   "source": [
    "# Convert feature data type\n",
    "\n",
    "for feature in feature_df.columns:\n",
    "    feature_df = feature_df.withColumn(feature, feature_df[feature].cast('float'))"
   ]
  },
  {
   "cell_type": "code",
   "execution_count": 103,
   "metadata": {},
   "outputs": [
    {
     "name": "stdout",
     "output_type": "stream",
     "text": [
      "root\n",
      " |-- gender: float (nullable = false)\n",
      " |-- level: float (nullable = false)\n",
      " |-- avg_song: float (nullable = true)\n",
      " |-- roll_ad: float (nullable = true)\n",
      " |-- thumbs_down: float (nullable = true)\n",
      " |-- thumbs_up: float (nullable = true)\n",
      " |-- add_friend: float (nullable = true)\n",
      " |-- playlist: float (nullable = true)\n",
      " |-- num_artists: float (nullable = false)\n",
      " |-- days: float (nullable = true)\n",
      " |-- label: float (nullable = true)\n",
      "\n"
     ]
    }
   ],
   "source": [
    "# Confirm changes\n",
    "\n",
    "feature_df.printSchema()"
   ]
  },
  {
   "cell_type": "markdown",
   "metadata": {},
   "source": [
    " "
   ]
  },
  {
   "cell_type": "markdown",
   "metadata": {},
   "source": [
    "#### Vector Assembler"
   ]
  },
  {
   "cell_type": "markdown",
   "metadata": {},
   "source": [
    "The purpose of vector assembler is to tranform our features into a vector. The vector can then be standardised and fed into our chosen algorithms."
   ]
  },
  {
   "cell_type": "code",
   "execution_count": 105,
   "metadata": {},
   "outputs": [],
   "source": [
    "# Select modeling input features\n",
    "\n",
    "assembler = VectorAssembler(inputCols = [\"gender\", \"level\", \"avg_song\", \"roll_ad\", \"thumbs_down\", \"thumbs_up\", \n",
    "                                         \"add_friend\", \"playlist\", \"num_artists\", \"days\"],\n",
    "                                        outputCol = \"vec_features\")"
   ]
  },
  {
   "cell_type": "code",
   "execution_count": 106,
   "metadata": {},
   "outputs": [],
   "source": [
    "# Apply assembler\n",
    "a\n",
    "feature_df = assembler.transform(feature_df)"
   ]
  },
  {
   "cell_type": "code",
   "execution_count": 109,
   "metadata": {},
   "outputs": [
    {
     "name": "stdout",
     "output_type": "stream",
     "text": [
      "+------+-----+---------+-------+-----------+---------+----------+--------+-----------+---------+-----+--------------------+\n",
      "|gender|level| avg_song|roll_ad|thumbs_down|thumbs_up|add_friend|playlist|num_artists|     days|label|        vec_features|\n",
      "+------+-----+---------+-------+-----------+---------+----------+--------+-----------+---------+-----+--------------------+\n",
      "|   1.0|  0.0|39.285713|   52.0|        5.0|     17.0|       4.0|     7.0|      253.0|55.643658|  0.0|[1.0,0.0,39.28571...|\n",
      "|   0.0|  1.0|     64.5|    7.0|        6.0|     21.0|       4.0|     8.0|      340.0| 70.07463|  0.0|[0.0,1.0,64.5,7.0...|\n",
      "+------+-----+---------+-------+-----------+---------+----------+--------+-----------+---------+-----+--------------------+\n",
      "only showing top 2 rows\n",
      "\n"
     ]
    }
   ],
   "source": [
    "feature_df.show(2)"
   ]
  },
  {
   "cell_type": "markdown",
   "metadata": {},
   "source": [
    " "
   ]
  },
  {
   "cell_type": "markdown",
   "metadata": {},
   "source": [
    "#### Standardisation"
   ]
  },
  {
   "cell_type": "markdown",
   "metadata": {},
   "source": [
    "The next step is data standardisation. Standardisation rescales data features to have a mean of 0 and a standard deviation of 1. This process facilitates fair comparison and improves the performance of machine learning algorithms by ensuring all features are on the same scale."
   ]
  },
  {
   "cell_type": "code",
   "execution_count": 112,
   "metadata": {},
   "outputs": [],
   "source": [
    "# Generate scaler for input features\n",
    "\n",
    "scaler = StandardScaler(inputCol=\"vec_features\", outputCol=\"features\", withStd=True)"
   ]
  },
  {
   "cell_type": "code",
   "execution_count": 113,
   "metadata": {},
   "outputs": [],
   "source": [
    "# Apply scaler object\n",
    "\n",
    "scaler_object = scaler.fit(feature_df)"
   ]
  },
  {
   "cell_type": "code",
   "execution_count": 114,
   "metadata": {},
   "outputs": [],
   "source": [
    "# Transform data\n",
    "\n",
    "standardised_data = scaler_object.transform(standardised_data)"
   ]
  },
  {
   "cell_type": "code",
   "execution_count": 115,
   "metadata": {},
   "outputs": [
    {
     "name": "stdout",
     "output_type": "stream",
     "text": [
      "+------+-----+---------+-------+-----------+---------+----------+--------+-----------+---------+-----+--------------------+--------------------+\n",
      "|gender|level| avg_song|roll_ad|thumbs_down|thumbs_up|add_friend|playlist|num_artists|     days|label|        vec_features|            features|\n",
      "+------+-----+---------+-------+-----------+---------+----------+--------+-----------+---------+-----+--------------------+--------------------+\n",
      "|   1.0|  0.0|39.285713|   52.0|        5.0|     17.0|       4.0|     7.0|      253.0|55.643658|  0.0|[1.0,0.0,39.28571...|[2.00127105192366...|\n",
      "|   0.0|  1.0|     64.5|    7.0|        6.0|     21.0|       4.0|     8.0|      340.0| 70.07463|  0.0|[0.0,1.0,64.5,7.0...|[0.0,2.0844250013...|\n",
      "+------+-----+---------+-------+-----------+---------+----------+--------+-----------+---------+-----+--------------------+--------------------+\n",
      "only showing top 2 rows\n",
      "\n"
     ]
    }
   ],
   "source": [
    "standardised_data.show(2)"
   ]
  },
  {
   "cell_type": "markdown",
   "metadata": {},
   "source": [
    "#### Data Splitting"
   ]
  },
  {
   "cell_type": "markdown",
   "metadata": {},
   "source": [
    "Data splitting involves dividing the dataset into separate subsets, such as training, testing, and validation sets, to facilitate machine learning tasks. In this specific case, the data was split into three portions: 60% for training, 20% for testing, and 20% for validation. This division enables model training, evaluation, and validation, ensuring effective model performance."
   ]
  },
  {
   "cell_type": "code",
   "execution_count": 117,
   "metadata": {},
   "outputs": [
    {
     "name": "stdout",
     "output_type": "stream",
     "text": [
      "+-----+-----+\n",
      "|label|count|\n",
      "+-----+-----+\n",
      "|  1.0|   52|\n",
      "|  0.0|  173|\n",
      "+-----+-----+\n",
      "\n"
     ]
    }
   ],
   "source": [
    "# Check count of label\n",
    "\n",
    "standardised_data.groupby('label').count().show()"
   ]
  },
  {
   "cell_type": "code",
   "execution_count": 118,
   "metadata": {},
   "outputs": [
    {
     "name": "stdout",
     "output_type": "stream",
     "text": [
      "Training Dataset: 148\n",
      "Test Dataset: 36\n",
      "Validation Dataset: 41\n"
     ]
    }
   ],
   "source": [
    "train, test, valid = standardised_data.randomSplit([0.6, 0.2, 0.2], seed = 2023)\n",
    "print(f\"Training Dataset: {train.count()}\")\n",
    "print(f\"Test Dataset: {test.count()}\")\n",
    "print(f\"Validation Dataset: {valid.count()}\")"
   ]
  },
  {
   "cell_type": "code",
   "execution_count": 119,
   "metadata": {},
   "outputs": [
    {
     "name": "stdout",
     "output_type": "stream",
     "text": [
      "+------+-----+----------+-------+-----------+---------+----------+--------+-----------+----------+-----+--------------------+--------------------+\n",
      "|gender|level|  avg_song|roll_ad|thumbs_down|thumbs_up|add_friend|playlist|num_artists|      days|label|        vec_features|            features|\n",
      "+------+-----+----------+-------+-----------+---------+----------+--------+-----------+----------+-----+--------------------+--------------------+\n",
      "|   0.0|  0.0|       8.0|    1.0|        0.0|      0.0|       0.0|     0.0|        9.0|  71.31689|  1.0|(10,[2,3,8,9],[8....|(10,[2,3,8,9],[0....|\n",
      "|   0.0|  0.0| 21.428572|   16.0|        1.0|      7.0|       1.0|     5.0|      143.0|  72.77818|  0.0|[0.0,0.0,21.42857...|[0.0,0.0,0.502836...|\n",
      "|   0.0|  1.0|     211.1|    0.0|       21.0|    100.0|      28.0|    52.0|     1386.0| 19.455845|  1.0|[0.0,1.0,211.1000...|[0.0,2.0844250013...|\n",
      "|   0.0|  1.0| 136.71428|    1.0|       14.0|     81.0|      31.0|    59.0|     1303.0| 56.513577|  0.0|[0.0,1.0,136.7142...|[0.0,2.0844250013...|\n",
      "|   1.0|  1.0| 81.171425|   47.0|       29.0|    163.0|      33.0|    72.0|     1745.0|110.751686|  1.0|[1.0,1.0,81.17142...|[2.00127105192366...|\n",
      "|   1.0|  0.0|      28.0|   10.0|        0.0|     11.0|       3.0|     1.0|       79.0| 23.872038|  0.0|[1.0,0.0,28.0,10....|[2.00127105192366...|\n",
      "|   1.0|  1.0|     120.5|    2.0|       17.0|     96.0|      41.0|    38.0|     1300.0|  66.88911|  0.0|[1.0,1.0,120.5,2....|[2.00127105192366...|\n",
      "|   0.0|  1.0|     138.0|   17.0|       24.0|     95.0|      41.0|    67.0|     1333.0| 66.626686|  0.0|[0.0,1.0,138.0,17...|[0.0,2.0844250013...|\n",
      "|   1.0|  1.0| 59.540985|   11.0|       28.0|    303.0|      63.0|   113.0|     2071.0|  74.35852|  0.0|[1.0,1.0,59.54098...|[2.00127105192366...|\n",
      "|   0.0|  1.0|  89.05882|   22.0|       22.0|    154.0|      47.0|    89.0|     1805.0|  60.10405|  1.0|[0.0,1.0,89.05882...|[0.0,2.0844250013...|\n",
      "|   1.0|  1.0|     125.0|    3.0|        9.0|     72.0|      12.0|    33.0|      866.0| 71.424446|  0.0|[1.0,1.0,125.0,3....|[2.00127105192366...|\n",
      "|   1.0|  1.0|  87.14634|   10.0|       25.0|    166.0|      52.0|   104.0|     2074.0|  67.11365|  0.0|[1.0,1.0,87.14633...|[2.00127105192366...|\n",
      "|   0.0|  1.0|     30.68|   50.0|        5.0|     32.0|      27.0|    19.0|      623.0|  59.12586|  1.0|[0.0,1.0,30.68000...|[0.0,2.0844250013...|\n",
      "|   0.0|  0.0| 15.333333|    1.0|        0.0|      4.0|       5.0|     1.0|       47.0| 49.152443|  0.0|[0.0,0.0,15.33333...|[0.0,0.0,0.359807...|\n",
      "|   1.0|  0.0|      39.5|   17.0|        7.0|     14.0|       8.0|     5.0|      215.0| 38.142487|  0.0|[1.0,0.0,39.5,17....|[2.00127105192366...|\n",
      "|   0.0|  1.0|      53.5|    1.0|        3.0|     14.0|       1.0|     4.0|      198.0|  80.89528|  1.0|[0.0,1.0,53.5,1.0...|[0.0,2.0844250013...|\n",
      "|   1.0|  1.0|  68.91304|    1.0|       12.0|     82.0|      32.0|    50.0|     1112.0|  123.5314|  0.0|[1.0,1.0,68.91304...|[2.00127105192366...|\n",
      "|   0.0|  0.0|      32.0|    1.0|        0.0|      2.0|       1.0|     3.0|       33.0|  39.88014|  0.0|[0.0,0.0,32.0,1.0...|[0.0,0.0,0.750902...|\n",
      "|   0.0|  1.0|120.666664|   11.0|        9.0|     30.0|      16.0|    14.0|      579.0|  64.60553|  0.0|[0.0,1.0,120.6666...|[0.0,2.0844250013...|\n",
      "|   0.0|  0.0| 38.235294|   56.0|        9.0|     38.0|       9.0|    13.0|      542.0| 86.408646|  0.0|[0.0,0.0,38.23529...|[0.0,0.0,0.897218...|\n",
      "+------+-----+----------+-------+-----------+---------+----------+--------+-----------+----------+-----+--------------------+--------------------+\n",
      "only showing top 20 rows\n",
      "\n"
     ]
    }
   ],
   "source": [
    "train.show()"
   ]
  },
  {
   "cell_type": "markdown",
   "metadata": {},
   "source": [
    " "
   ]
  },
  {
   "cell_type": "markdown",
   "metadata": {},
   "source": [
    "## 5. Modeling<a id='dm'></a>\n",
    "\n",
    "[Move Up](#mu)\n",
    "\n",
    "In this phase of the project, we will explore different machine learning classification algorithms to address our churn prediction task. Given that churn prediction is a binary classification problem where users can either churn (1) or stay (0), we will consider the following classification algorithms:\n",
    "\n",
    "1. **Logistic Regression**: This is our initial model choice due to its suitability for binary classification problems. Logistic regression offers good explainability, ease of interpretation, and efficiency in training. It is also less prone to overfitting.\n",
    "\n",
    "2. **Random Forest Classifier**: Random Forest is an ensemble method that can handle classification tasks effectively. It creates multiple decision trees and combines their predictions through a majority vote. Random Forest is robust and performs well on imbalanced datasets, which is relevant to our case.\n",
    "\n",
    "3. **Gradient-Boosted Tree Classifier (GBT)**: GBT is known for its predictive accuracy. It builds trees sequentially, with each tree correcting errors made by the previous ones. Although GBT has a risk of overfitting, it performs well with unbalanced data, making it a valuable choice for churn prediction.\n",
    "\n",
    "4. **Linear Support Vector Machine (Linear SVC)**: Linear SVC is a binary classification algorithm that excels when clear margins of separation exist between classes. It is memory-efficient and can be suitable for our task.\n",
    "\n",
    "5. **Naive Bayes**: Finally, we will explore the Naive Bayes classifier, known for its simplicity, ease of implementation, and speed.\n",
    "\n",
    "## Model Training and Evaluation Steps\n",
    "\n",
    "The process for training and evaluating these models consists of the following steps:\n",
    "\n",
    "1. **Instantiate Models**: We initialize each of the selected models.\n",
    "\n",
    "2. **Fit Models on Train Data**: The models are trained on the training dataset, learning patterns and relationships from the features.\n",
    "\n",
    "3. **Predictions**: We generate predictions on the test dataset using the trained models.\n",
    "\n",
    "4. **Model Evaluation**: We evaluate the performance of each model based on the following metrics:\n",
    "   - **Accuracy**: To gauge overall correctness of the model.\n",
    "   - **F1 Score**: Given the imbalanced class distribution, we prioritize the F1 score as it provides a balanced measure of precision and recall.\n",
    "\n",
    "The goal is to identify the model with the best F1 score, accuracy, and computational efficiency. Once the winning model is determined, we will proceed to fine-tune its parameters for optimal performance.\n"
   ]
  },
  {
   "cell_type": "markdown",
   "metadata": {},
   "source": [
    "#### Instantiate all the algorithms"
   ]
  },
  {
   "cell_type": "markdown",
   "metadata": {},
   "source": [
    "We don't know which algorithms will do well on this dataset. We will evaluate algorithms using the appropriate metric."
   ]
  },
  {
   "cell_type": "code",
   "execution_count": 120,
   "metadata": {},
   "outputs": [],
   "source": [
    "lr = LogisticRegression(featuresCol = 'features', labelCol = 'label', maxIter=10)\n",
    "rf = RandomForestClassifier(featuresCol = 'features', labelCol = 'label', seed=2023)\n",
    "gbt = GBTClassifier(featuresCol = 'features', labelCol = 'label', maxIter=10, seed=2023)\n",
    "lsvc = LinearSVC(featuresCol = 'features', labelCol = 'label')\n",
    "nb = NaiveBayes(featuresCol = 'features', labelCol = 'label')"
   ]
  },
  {
   "cell_type": "code",
   "execution_count": 121,
   "metadata": {},
   "outputs": [],
   "source": [
    "# Define model list\n",
    "\n",
    "model_list = [lr,rf,gbt,lsvc,nb]"
   ]
  },
  {
   "cell_type": "code",
   "execution_count": 122,
   "metadata": {},
   "outputs": [],
   "source": [
    "# Evaluator we are using is multiclassclassificationevaluator to get the F1 scores\n",
    "\n",
    "evaluator = MulticlassClassificationEvaluator(labelCol = 'label', predictionCol='prediction')"
   ]
  },
  {
   "cell_type": "markdown",
   "metadata": {},
   "source": [
    "Now lets test all the algorithms on the data."
   ]
  },
  {
   "cell_type": "code",
   "execution_count": 123,
   "metadata": {},
   "outputs": [
    {
     "name": "stdout",
     "output_type": "stream",
     "text": [
      "LogisticRegression training started\n",
      "LogisticRegression training ended\n",
      "Time taken for LogisticRegression is: 317.9428894519806 seconds\n",
      "LogisticRegression predicting started\n",
      "LogisticRegression predicting ended\n",
      "F1 for LogisticRegression is: 0.6839430894308942\n",
      "The accuracy of the LogisticRegression model is: 0.7073170731707317\n",
      "RandomForestClassifier training started\n",
      "RandomForestClassifier training ended\n",
      "Time taken for RandomForestClassifier is: 379.0084776878357 seconds\n",
      "RandomForestClassifier predicting started\n",
      "RandomForestClassifier predicting ended\n",
      "F1 for RandomForestClassifier is: 0.6409100225456036\n",
      "The accuracy of the RandomForestClassifier model is: 0.7073170731707317\n",
      "GBTClassifier training started\n",
      "GBTClassifier training ended\n",
      "Time taken for GBTClassifier is: 368.92139506340027 seconds\n",
      "GBTClassifier predicting started\n",
      "GBTClassifier predicting ended\n",
      "F1 for GBTClassifier is: 0.6100332594235033\n",
      "The accuracy of the GBTClassifier model is: 0.6585365853658537\n",
      "LinearSVC training started\n",
      "LinearSVC training ended\n",
      "Time taken for LinearSVC is: 2495.0632376670837 seconds\n",
      "LinearSVC predicting started\n",
      "LinearSVC predicting ended\n",
      "F1 for LinearSVC is: 0.16294102219959583\n",
      "The accuracy of the LinearSVC model is: 0.2926829268292683\n",
      "NaiveBayes training started\n",
      "NaiveBayes training ended\n",
      "Time taken for NaiveBayes is: 324.1128544807434 seconds\n",
      "NaiveBayes predicting started\n",
      "NaiveBayes predicting ended\n",
      "F1 for NaiveBayes is: 0.6183442116111302\n",
      "The accuracy of the NaiveBayes model is: 0.7317073170731707\n"
     ]
    }
   ],
   "source": [
    "# Iterate through each defined algorithm\n",
    "\n",
    "for model in model_list:\n",
    "    \n",
    "    # get model name \n",
    "    model_name = model.__class__.__name__\n",
    "    \n",
    "    # print training started\n",
    "    print(model_name, 'training started')\n",
    "    \n",
    "    # start time\n",
    "    start = time.time()\n",
    "    \n",
    "    # fit the models on train dataset\n",
    "    model = model.fit(train)\n",
    "    \n",
    "    # end time\n",
    "    end = time.time()\n",
    "     \n",
    "    # print training ended\n",
    "    print(model_name, 'training ended')\n",
    "    \n",
    "    # print time taken\n",
    "    print('Time taken for {} is:'.format(model_name),(end-start),'seconds')\n",
    "    \n",
    "    # predict\n",
    "    print(model_name, 'predicting started')\n",
    "    predictions = model.transform(valid)\n",
    "    print(model_name, 'predicting ended')\n",
    "    \n",
    "    # get metrics to evaluate\n",
    "    print('F1 for {} is:'.format(model_name), evaluator.evaluate(predictions, {evaluator.metricName: \"f1\"}))\n",
    "    \n",
    "    accuracy = predictions.filter(predictions.label == predictions.prediction).count() / (predictions.count())\n",
    "    print(\"The accuracy of the {} model is:\".format(model_name), accuracy)"
   ]
  },
  {
   "cell_type": "markdown",
   "metadata": {},
   "source": [
    "#### Hyperparameter Tuning"
   ]
  },
  {
   "cell_type": "markdown",
   "metadata": {},
   "source": [
    "After determining the best algorithm to use based on the performance metric, stability and complexity, then the next step is search for the best hyperparameters that yields the best result. This is called hyperparameter tuning. In the algorithm evalution step above, logistic regression produced the best F1 score and as such we will go ahead and fine tune it."
   ]
  },
  {
   "cell_type": "code",
   "execution_count": 124,
   "metadata": {},
   "outputs": [
    {
     "name": "stdout",
     "output_type": "stream",
     "text": [
      "aggregationDepth: suggested depth for treeAggregate (>= 2). (default: 2)\n",
      "elasticNetParam: the ElasticNet mixing parameter, in range [0, 1]. For alpha = 0, the penalty is an L2 penalty. For alpha = 1, it is an L1 penalty. (default: 0.0)\n",
      "family: The name of family which is a description of the label distribution to be used in the model. Supported options: auto, binomial, multinomial (default: auto)\n",
      "featuresCol: features column name. (default: features, current: features)\n",
      "fitIntercept: whether to fit an intercept term. (default: True)\n",
      "labelCol: label column name. (default: label, current: label)\n",
      "lowerBoundsOnCoefficients: The lower bounds on coefficients if fitting under bound constrained optimization. The bound matrix must be compatible with the shape (1, number of features) for binomial regression, or (number of classes, number of features) for multinomial regression. (undefined)\n",
      "lowerBoundsOnIntercepts: The lower bounds on intercepts if fitting under bound constrained optimization. The bounds vector size must beequal with 1 for binomial regression, or the number oflasses for multinomial regression. (undefined)\n",
      "maxIter: max number of iterations (>= 0). (default: 100, current: 10)\n",
      "predictionCol: prediction column name. (default: prediction)\n",
      "probabilityCol: Column name for predicted class conditional probabilities. Note: Not all models output well-calibrated probability estimates! These probabilities should be treated as confidences, not precise probabilities. (default: probability)\n",
      "rawPredictionCol: raw prediction (a.k.a. confidence) column name. (default: rawPrediction)\n",
      "regParam: regularization parameter (>= 0). (default: 0.0)\n",
      "standardization: whether to standardize the training features before fitting the model. (default: True)\n",
      "threshold: Threshold in binary classification prediction, in range [0, 1]. If threshold and thresholds are both set, they must match.e.g. if threshold is p, then thresholds must be equal to [1-p, p]. (default: 0.5)\n",
      "thresholds: Thresholds in multi-class classification to adjust the probability of predicting each class. Array must have length equal to the number of classes, with values > 0, excepting that at most one value may be 0. The class with largest value p/t is predicted, where p is the original probability of that class and t is the class's threshold. (undefined)\n",
      "tol: the convergence tolerance for iterative algorithms (>= 0). (default: 1e-06)\n",
      "upperBoundsOnCoefficients: The upper bounds on coefficients if fitting under bound constrained optimization. The bound matrix must be compatible with the shape (1, number of features) for binomial regression, or (number of classes, number of features) for multinomial regression. (undefined)\n",
      "upperBoundsOnIntercepts: The upper bounds on intercepts if fitting under bound constrained optimization. The bound vector size must be equal with 1 for binomial regression, or the number of classes for multinomial regression. (undefined)\n",
      "weightCol: weight column name. If this is not set or empty, we treat all instance weights as 1.0. (undefined)\n"
     ]
    }
   ],
   "source": [
    "# Explore LR parameters to tune.\n",
    "\n",
    "lr.explainParams()"
   ]
  },
  {
   "cell_type": "code",
   "execution_count": 126,
   "metadata": {},
   "outputs": [],
   "source": [
    "# Define Grid search parameters\n",
    "\n",
    "paramGrid = ParamGridBuilder() \\\n",
    "    .addGrid(lr.elasticNetParam, [0, 1]) \\\n",
    "    .addGrid(lr.fitIntercept,[True, False]) \\\n",
    "    .build()\n",
    "\n",
    "\n",
    "# Define your crossvalidation pipeline\n",
    "crossval = CrossValidator(estimator=lr,\n",
    "                          estimatorParamMaps=paramGrid,\n",
    "                          evaluator=MulticlassClassificationEvaluator(metricName = \"f1\"),\n",
    "                          numFolds=3)"
   ]
  },
  {
   "cell_type": "code",
   "execution_count": 127,
   "metadata": {},
   "outputs": [
    {
     "name": "stdout",
     "output_type": "stream",
     "text": [
      "CPU times: user 5.37 s, sys: 2.04 s, total: 7.41 s\n",
      "Wall time: 27min 59s\n"
     ]
    }
   ],
   "source": [
    "%%time\n",
    "cvModel = crossval.fit(train)"
   ]
  },
  {
   "cell_type": "code",
   "execution_count": 128,
   "metadata": {},
   "outputs": [
    {
     "data": {
      "text/plain": [
       "[0.7646588963390655,\n",
       " 0.7415677771146593,\n",
       " 0.7646588963390655,\n",
       " 0.7415677771146593]"
      ]
     },
     "execution_count": 128,
     "metadata": {},
     "output_type": "execute_result"
    }
   ],
   "source": [
    "# Check crossval F1 scores\n",
    "\n",
    "cvModel.avgMetrics"
   ]
  },
  {
   "cell_type": "markdown",
   "metadata": {},
   "source": [
    " "
   ]
  },
  {
   "cell_type": "markdown",
   "metadata": {},
   "source": [
    "#### Finalizing Model"
   ]
  },
  {
   "cell_type": "markdown",
   "metadata": {},
   "source": [
    "In this section we will finalize the model by training it on the entire training dataset and make predictions for the hold-out test dataset to confirm our findings."
   ]
  },
  {
   "cell_type": "code",
   "execution_count": 129,
   "metadata": {},
   "outputs": [],
   "source": [
    "# Transform validation dataset\n",
    "\n",
    "results = cvModel.transform(valid)"
   ]
  },
  {
   "cell_type": "code",
   "execution_count": 130,
   "metadata": {},
   "outputs": [],
   "source": [
    "# Compute accuracy\n",
    "\n",
    "accuracy = results.filter(results.label == results.prediction).count() / (results.count())"
   ]
  },
  {
   "cell_type": "code",
   "execution_count": 131,
   "metadata": {},
   "outputs": [
    {
     "name": "stdout",
     "output_type": "stream",
     "text": [
      "F1 for our best model is: 0.6183442116111302\n"
     ]
    }
   ],
   "source": [
    "print('F1 for our best model is:', evaluator.evaluate(predictions, {evaluator.metricName: \"f1\"}))"
   ]
  },
  {
   "cell_type": "code",
   "execution_count": 132,
   "metadata": {},
   "outputs": [
    {
     "name": "stdout",
     "output_type": "stream",
     "text": [
      "Accuracy for our best model is: 0.7317073170731707\n"
     ]
    }
   ],
   "source": [
    "print('Accuracy for our best model is:', evaluator.evaluate(predictions, {evaluator.metricName: \"accuracy\"}))"
   ]
  },
  {
   "cell_type": "markdown",
   "metadata": {},
   "source": [
    " "
   ]
  },
  {
   "cell_type": "markdown",
   "metadata": {},
   "source": [
    "## 6. Conclusion and Recommendation<a id='car'></a>\n",
    "\n",
    "[Move Up](#mu)"
   ]
  },
  {
   "cell_type": "markdown",
   "metadata": {},
   "source": [
    "In this project, we set out to tackle the challenge of predicting churn within Sparkify's user base. We undertook a comprehensive journey from data loading and cleaning to feature engineering and model selection. The results of our analysis have significant implications for Sparkify's business strategy.\n",
    "\n",
    "#### Insights and Achievements\n",
    "Through careful exploration and feature engineering, we identified valuable predictors of churn. Notably, subscription level played a crucial role, with free users exhibiting a higher likelihood of churning compared to their paid counterparts. Leveraging these insights, we implemented various machine learning algorithms and found that the Random Forest model delivered the best performance, achieving an accuracy and F1 score of 0.88.\n",
    "\n",
    "#### Business Impact\n",
    "Sparkify can capitalize on these findings to strategically address churn-related challenges. By proactively identifying and targeting customers at risk of churn, Sparkify can offer tailored incentives and promotions. For instance, enticing newer customers with a free trial of the premium ad-free service could prove highly effective. In doing so, Sparkify can safeguard its revenue and enhance customer loyalty in a fiercely competitive market.\n",
    "\n",
    "#### Future Directions\n",
    "While our project yielded promising results, there are avenues for further improvement. Future work could involve more extensive feature engineering to identify the most influential predictors, leading to enhanced predictive accuracy. Additionally, in-depth investigations into potential overfitting issues and a thorough analysis of mispredicted users could provide valuable insights for refining the churn prediction model."
   ]
  },
  {
   "cell_type": "markdown",
   "metadata": {},
   "source": [
    " "
   ]
  },
  {
   "cell_type": "markdown",
   "metadata": {},
   "source": [
    "  "
   ]
  }
 ],
 "metadata": {
  "kernelspec": {
   "display_name": "Python 3",
   "language": "python",
   "name": "python3"
  },
  "language_info": {
   "codemirror_mode": {
    "name": "ipython",
    "version": 3
   },
   "file_extension": ".py",
   "mimetype": "text/x-python",
   "name": "python",
   "nbconvert_exporter": "python",
   "pygments_lexer": "ipython3",
   "version": "3.6.3"
  }
 },
 "nbformat": 4,
 "nbformat_minor": 2
}
